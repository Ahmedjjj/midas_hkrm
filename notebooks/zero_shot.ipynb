{
 "cells": [
  {
   "cell_type": "code",
   "execution_count": 2,
   "id": "d1c848ff",
   "metadata": {},
   "outputs": [],
   "source": [
    "%load_ext autoreload\n",
    "%autoreload 2"
   ]
  },
  {
   "cell_type": "code",
   "execution_count": 3,
   "id": "bfc3b534",
   "metadata": {},
   "outputs": [],
   "source": [
    "dataset_dir = \"/runai-ivrl-scratch/students/2021-fall-sp-jellouli/mix6\""
   ]
  },
  {
   "cell_type": "code",
   "execution_count": 4,
   "id": "7b07843d",
   "metadata": {},
   "outputs": [],
   "source": [
    "import os, sys\n",
    "sys.path.append(os.path.normpath(os.path.join(os.getcwd(), '..')))\n",
    "sys.path.append(os.path.normpath(os.path.join(os.getcwd(), '..', 'external', 'MiDaS')))\n",
    "import matplotlib.pyplot as plt\n",
    "\n",
    "from midas_hkrm.utils.img_utils import read_image"
   ]
  },
  {
   "cell_type": "code",
   "execution_count": 5,
   "id": "95f518fc",
   "metadata": {},
   "outputs": [
    {
     "name": "stdout",
     "output_type": "stream",
     "text": [
      "env: MIX6_DATASETS=/runai-ivrl-scratch/students/2021-fall-sp-jellouli/mix6\n"
     ]
    }
   ],
   "source": [
    "%env MIX6_DATASETS=/runai-ivrl-scratch/students/2021-fall-sp-jellouli/mix6"
   ]
  },
  {
   "cell_type": "code",
   "execution_count": 6,
   "id": "8ddb37bd",
   "metadata": {},
   "outputs": [
    {
     "name": "stdout",
     "output_type": "stream",
     "text": [
      "env: ZERO_SHOT_DATASETS=/runai-ivrl-scratch/students/2021-fall-sp-jellouli/zero_shot_datasets\n"
     ]
    }
   ],
   "source": [
    "%env ZERO_SHOT_DATASETS=/runai-ivrl-scratch/students/2021-fall-sp-jellouli/zero_shot_datasets"
   ]
  },
  {
   "cell_type": "markdown",
   "id": "d5732455",
   "metadata": {},
   "source": [
    "## NYU"
   ]
  },
  {
   "cell_type": "code",
   "execution_count": 7,
   "id": "9a614795",
   "metadata": {},
   "outputs": [],
   "source": [
    "from scipy.io import loadmat\n",
    "\n",
    "import numpy as np\n",
    "import h5py\n",
    "\n",
    "import midas_hkrm\n",
    "import midas_hkrm.datasets\n",
    "\n",
    "from midas_hkrm.datasets import NYU\n",
    "from torch.utils.data import DataLoader"
   ]
  },
  {
   "cell_type": "code",
   "execution_count": 8,
   "id": "0929a744",
   "metadata": {},
   "outputs": [],
   "source": [
    "data_path = \"/runai-ivrl-scratch/students/2021-fall-sp-jellouli/zero_shot_datasets/NYU/nyu_depth_v2_labeled.mat\"\n",
    "split_path = \"/runai-ivrl-scratch/students/2021-fall-sp-jellouli/zero_shot_datasets/NYU/splits.mat\""
   ]
  },
  {
   "cell_type": "code",
   "execution_count": 12,
   "id": "f9654e9c",
   "metadata": {},
   "outputs": [],
   "source": [
    "dataset = NYU(data_path, split_path)"
   ]
  },
  {
   "cell_type": "code",
   "execution_count": 14,
   "id": "4f4af009",
   "metadata": {},
   "outputs": [],
   "source": [
    "loader = DataLoader(dataset,batch_size=1, collate_fn=lambda x: x)"
   ]
  },
  {
   "cell_type": "code",
   "execution_count": 16,
   "id": "550832e4",
   "metadata": {},
   "outputs": [],
   "source": [
    "for i in loader:\n",
    "    batch = i[0]\n",
    "    image, depth = batch\n",
    "    break"
   ]
  },
  {
   "cell_type": "code",
   "execution_count": null,
   "id": "67df4bf4",
   "metadata": {},
   "outputs": [],
   "source": []
  }
 ],
 "metadata": {
  "kernelspec": {
   "display_name": "Python 3 (ipykernel)",
   "language": "python",
   "name": "python3"
  },
  "language_info": {
   "codemirror_mode": {
    "name": "ipython",
    "version": 3
   },
   "file_extension": ".py",
   "mimetype": "text/x-python",
   "name": "python",
   "nbconvert_exporter": "python",
   "pygments_lexer": "ipython3",
   "version": "3.9.7"
  }
 },
 "nbformat": 4,
 "nbformat_minor": 5
}
