{
 "cells": [
  {
   "cell_type": "code",
   "execution_count": 101,
   "id": "a4076184",
   "metadata": {},
   "outputs": [
    {
     "name": "stdout",
     "output_type": "stream",
     "text": [
      "The nb_black extension is already loaded. To reload it, use:\n",
      "  %reload_ext nb_black\n"
     ]
    },
    {
     "data": {
      "application/javascript": [
       "\n",
       "            setTimeout(function() {\n",
       "                var nbb_cell_id = 101;\n",
       "                var nbb_unformatted_code = \"import torch\\n\\n%load_ext nb_black\";\n",
       "                var nbb_formatted_code = \"import torch\\n\\n%load_ext nb_black\";\n",
       "                var nbb_cells = Jupyter.notebook.get_cells();\n",
       "                for (var i = 0; i < nbb_cells.length; ++i) {\n",
       "                    if (nbb_cells[i].input_prompt_number == nbb_cell_id) {\n",
       "                        if (nbb_cells[i].get_text() == nbb_unformatted_code) {\n",
       "                             nbb_cells[i].set_text(nbb_formatted_code);\n",
       "                        }\n",
       "                        break;\n",
       "                    }\n",
       "                }\n",
       "            }, 500);\n",
       "            "
      ],
      "text/plain": [
       "<IPython.core.display.Javascript object>"
      ]
     },
     "metadata": {},
     "output_type": "display_data"
    }
   ],
   "source": [
    "import torch\n",
    "\n",
    "%load_ext nb_black"
   ]
  },
  {
   "cell_type": "code",
   "execution_count": 140,
   "id": "4bef2164",
   "metadata": {},
   "outputs": [
    {
     "data": {
      "application/javascript": [
       "\n",
       "            setTimeout(function() {\n",
       "                var nbb_cell_id = 140;\n",
       "                var nbb_unformatted_code = \"output_dirs = {\\n    \\\"midas_hkrm_random\\\": (\\n        \\\"/runai-ivrl-scratch/students/2021-fall-sp-jellouli/output_midas_hkrm/state_270000.tar\\\",\\n        \\\"/runai-ivrl-scratch/students/2021-fall-sp-jellouli/eval_midas_hkrm_v1_test_set/\\\",\\n    ),\\n    \\\"midas_hkrm_v2\\\": (\\n        \\\"/runai-ivrl-scratch/students/2021-fall-sp-jellouli/output_midas_hkrm_v2/state_79999.tar\\\",\\n        \\\"/runai-ivrl-scratch/students/2021-fall-sp-jellouli/eval_midas_hkrm_v2_test_set/\\\",\\n    ),\\n    \\\"midas_hkrm_v3\\\": (\\n        \\\"/runai-ivrl-scratch/students/2021-fall-sp-jellouli/output_midas_hkrm_v3/state_69999.tar\\\",\\n        \\\"/runai-ivrl-scratch/students/2021-fall-sp-jellouli/eval_midas_hkrm_v3_test_set/\\\",\\n    ),\\n    \\\"midas_hkrm_v4\\\": (\\n        \\\"/runai-ivrl-scratch/students/2021-fall-sp-jellouli/output_midas_hkrm_v4/state_69999.tar\\\",\\n        \\\"/runai-ivrl-scratch/students/2021-fall-sp-jellouli/eval_midas_hkrm_v4_test_set/\\\",\\n    ),\\n    \\\"midas_hkrm_baseline\\\": (\\n        \\\"/runai-ivrl-scratch/students/2021-fall-sp-jellouli/output_midas_obj_baseline/state_79999.tar\\\",\\n        \\\"/runai-ivrl-scratch/students/2021-fall-sp-jellouli/eval_midas_hkrm_baseline_test_set/\\\",\\n    ),\\n}\";\n",
       "                var nbb_formatted_code = \"output_dirs = {\\n    \\\"midas_hkrm_random\\\": (\\n        \\\"/runai-ivrl-scratch/students/2021-fall-sp-jellouli/output_midas_hkrm/state_270000.tar\\\",\\n        \\\"/runai-ivrl-scratch/students/2021-fall-sp-jellouli/eval_midas_hkrm_v1_test_set/\\\",\\n    ),\\n    \\\"midas_hkrm_v2\\\": (\\n        \\\"/runai-ivrl-scratch/students/2021-fall-sp-jellouli/output_midas_hkrm_v2/state_79999.tar\\\",\\n        \\\"/runai-ivrl-scratch/students/2021-fall-sp-jellouli/eval_midas_hkrm_v2_test_set/\\\",\\n    ),\\n    \\\"midas_hkrm_v3\\\": (\\n        \\\"/runai-ivrl-scratch/students/2021-fall-sp-jellouli/output_midas_hkrm_v3/state_69999.tar\\\",\\n        \\\"/runai-ivrl-scratch/students/2021-fall-sp-jellouli/eval_midas_hkrm_v3_test_set/\\\",\\n    ),\\n    \\\"midas_hkrm_v4\\\": (\\n        \\\"/runai-ivrl-scratch/students/2021-fall-sp-jellouli/output_midas_hkrm_v4/state_69999.tar\\\",\\n        \\\"/runai-ivrl-scratch/students/2021-fall-sp-jellouli/eval_midas_hkrm_v4_test_set/\\\",\\n    ),\\n    \\\"midas_hkrm_baseline\\\": (\\n        \\\"/runai-ivrl-scratch/students/2021-fall-sp-jellouli/output_midas_obj_baseline/state_79999.tar\\\",\\n        \\\"/runai-ivrl-scratch/students/2021-fall-sp-jellouli/eval_midas_hkrm_baseline_test_set/\\\",\\n    ),\\n}\";\n",
       "                var nbb_cells = Jupyter.notebook.get_cells();\n",
       "                for (var i = 0; i < nbb_cells.length; ++i) {\n",
       "                    if (nbb_cells[i].input_prompt_number == nbb_cell_id) {\n",
       "                        if (nbb_cells[i].get_text() == nbb_unformatted_code) {\n",
       "                             nbb_cells[i].set_text(nbb_formatted_code);\n",
       "                        }\n",
       "                        break;\n",
       "                    }\n",
       "                }\n",
       "            }, 500);\n",
       "            "
      ],
      "text/plain": [
       "<IPython.core.display.Javascript object>"
      ]
     },
     "metadata": {},
     "output_type": "display_data"
    }
   ],
   "source": [
    "output_dirs = {\n",
    "    \"midas_hkrm_random\": (\n",
    "        \"/runai-ivrl-scratch/students/2021-fall-sp-jellouli/output_midas_hkrm/state_270000.tar\",\n",
    "        \"/runai-ivrl-scratch/students/2021-fall-sp-jellouli/eval_midas_hkrm_v1_test_set/\",\n",
    "    ),\n",
    "    \"midas_hkrm_v2\": (\n",
    "        \"/runai-ivrl-scratch/students/2021-fall-sp-jellouli/output_midas_hkrm_v2/state_79999.tar\",\n",
    "        \"/runai-ivrl-scratch/students/2021-fall-sp-jellouli/eval_midas_hkrm_v2_test_set/\",\n",
    "    ),\n",
    "    \"midas_hkrm_v3\": (\n",
    "        \"/runai-ivrl-scratch/students/2021-fall-sp-jellouli/output_midas_hkrm_v3/state_69999.tar\",\n",
    "        \"/runai-ivrl-scratch/students/2021-fall-sp-jellouli/eval_midas_hkrm_v3_test_set/\",\n",
    "    ),\n",
    "    \"midas_hkrm_v4\": (\n",
    "        \"/runai-ivrl-scratch/students/2021-fall-sp-jellouli/output_midas_hkrm_v4/state_69999.tar\",\n",
    "        \"/runai-ivrl-scratch/students/2021-fall-sp-jellouli/eval_midas_hkrm_v4_test_set/\",\n",
    "    ),\n",
    "    \"midas_hkrm_baseline\": (\n",
    "        \"/runai-ivrl-scratch/students/2021-fall-sp-jellouli/output_midas_obj_baseline/state_79999.tar\",\n",
    "        \"/runai-ivrl-scratch/students/2021-fall-sp-jellouli/eval_midas_hkrm_baseline_test_set/\",\n",
    "    ),\n",
    "}"
   ]
  },
  {
   "cell_type": "markdown",
   "id": "150115d0",
   "metadata": {},
   "source": [
    "## Train losses"
   ]
  },
  {
   "cell_type": "code",
   "execution_count": 81,
   "id": "a1514a82",
   "metadata": {},
   "outputs": [
    {
     "data": {
      "application/javascript": [
       "\n",
       "            setTimeout(function() {\n",
       "                var nbb_cell_id = 81;\n",
       "                var nbb_unformatted_code = \"train_losses = dict()\\nfor k, v in output_dirs.items():\\n    last_state, _ = v\\n    train_losses[k] = torch.load(last_state)[\\\"train_losses\\\"]\";\n",
       "                var nbb_formatted_code = \"train_losses = dict()\\nfor k, v in output_dirs.items():\\n    last_state, _ = v\\n    train_losses[k] = torch.load(last_state)[\\\"train_losses\\\"]\";\n",
       "                var nbb_cells = Jupyter.notebook.get_cells();\n",
       "                for (var i = 0; i < nbb_cells.length; ++i) {\n",
       "                    if (nbb_cells[i].input_prompt_number == nbb_cell_id) {\n",
       "                        if (nbb_cells[i].get_text() == nbb_unformatted_code) {\n",
       "                             nbb_cells[i].set_text(nbb_formatted_code);\n",
       "                        }\n",
       "                        break;\n",
       "                    }\n",
       "                }\n",
       "            }, 500);\n",
       "            "
      ],
      "text/plain": [
       "<IPython.core.display.Javascript object>"
      ]
     },
     "metadata": {},
     "output_type": "display_data"
    }
   ],
   "source": [
    "train_losses = dict()\n",
    "for k, v in output_dirs.items():\n",
    "    last_state, _ = v\n",
    "    train_losses[k] = torch.load(last_state)[\"train_losses\"]"
   ]
  },
  {
   "cell_type": "code",
   "execution_count": 83,
   "id": "596da22d",
   "metadata": {},
   "outputs": [
    {
     "data": {
      "application/javascript": [
       "\n",
       "            setTimeout(function() {\n",
       "                var nbb_cell_id = 83;\n",
       "                var nbb_unformatted_code = \"random_hkrm_losses = train_losses[\\\"midas_hkrm_random\\\"].values()\\nrandom_hkrm_losses = [sum(v.values()) / 6 for v in random_hkrm_losses]\";\n",
       "                var nbb_formatted_code = \"random_hkrm_losses = train_losses[\\\"midas_hkrm_random\\\"].values()\\nrandom_hkrm_losses = [sum(v.values()) / 6 for v in random_hkrm_losses]\";\n",
       "                var nbb_cells = Jupyter.notebook.get_cells();\n",
       "                for (var i = 0; i < nbb_cells.length; ++i) {\n",
       "                    if (nbb_cells[i].input_prompt_number == nbb_cell_id) {\n",
       "                        if (nbb_cells[i].get_text() == nbb_unformatted_code) {\n",
       "                             nbb_cells[i].set_text(nbb_formatted_code);\n",
       "                        }\n",
       "                        break;\n",
       "                    }\n",
       "                }\n",
       "            }, 500);\n",
       "            "
      ],
      "text/plain": [
       "<IPython.core.display.Javascript object>"
      ]
     },
     "metadata": {},
     "output_type": "display_data"
    }
   ],
   "source": [
    "random_hkrm_losses = train_losses[\"midas_hkrm_random\"].values()\n",
    "random_hkrm_losses = [sum(v.values()) / 6 for v in random_hkrm_losses]"
   ]
  },
  {
   "cell_type": "code",
   "execution_count": 84,
   "id": "3f1ff401",
   "metadata": {},
   "outputs": [
    {
     "data": {
      "application/javascript": [
       "\n",
       "            setTimeout(function() {\n",
       "                var nbb_cell_id = 84;\n",
       "                var nbb_unformatted_code = \"step = 10000\";\n",
       "                var nbb_formatted_code = \"step = 10000\";\n",
       "                var nbb_cells = Jupyter.notebook.get_cells();\n",
       "                for (var i = 0; i < nbb_cells.length; ++i) {\n",
       "                    if (nbb_cells[i].input_prompt_number == nbb_cell_id) {\n",
       "                        if (nbb_cells[i].get_text() == nbb_unformatted_code) {\n",
       "                             nbb_cells[i].set_text(nbb_formatted_code);\n",
       "                        }\n",
       "                        break;\n",
       "                    }\n",
       "                }\n",
       "            }, 500);\n",
       "            "
      ],
      "text/plain": [
       "<IPython.core.display.Javascript object>"
      ]
     },
     "metadata": {},
     "output_type": "display_data"
    }
   ],
   "source": [
    "step = 10000"
   ]
  },
  {
   "cell_type": "code",
   "execution_count": 85,
   "id": "3f37a2f9",
   "metadata": {},
   "outputs": [
    {
     "data": {
      "application/javascript": [
       "\n",
       "            setTimeout(function() {\n",
       "                var nbb_cell_id = 85;\n",
       "                var nbb_unformatted_code = \"train_losses[\\\"midas_hkrm_random\\\"] = random_hkrm_losses[:70000:step]\";\n",
       "                var nbb_formatted_code = \"train_losses[\\\"midas_hkrm_random\\\"] = random_hkrm_losses[:70000:step]\";\n",
       "                var nbb_cells = Jupyter.notebook.get_cells();\n",
       "                for (var i = 0; i < nbb_cells.length; ++i) {\n",
       "                    if (nbb_cells[i].input_prompt_number == nbb_cell_id) {\n",
       "                        if (nbb_cells[i].get_text() == nbb_unformatted_code) {\n",
       "                             nbb_cells[i].set_text(nbb_formatted_code);\n",
       "                        }\n",
       "                        break;\n",
       "                    }\n",
       "                }\n",
       "            }, 500);\n",
       "            "
      ],
      "text/plain": [
       "<IPython.core.display.Javascript object>"
      ]
     },
     "metadata": {},
     "output_type": "display_data"
    }
   ],
   "source": [
    "train_losses[\"midas_hkrm_random\"] = random_hkrm_losses[:70000:step]"
   ]
  },
  {
   "cell_type": "code",
   "execution_count": 86,
   "id": "e51f6e24",
   "metadata": {},
   "outputs": [
    {
     "data": {
      "application/javascript": [
       "\n",
       "            setTimeout(function() {\n",
       "                var nbb_cell_id = 86;\n",
       "                var nbb_unformatted_code = \"train_losses[\\\"midas_hkrm_v2\\\"] = list(train_losses[\\\"midas_hkrm_v2\\\"].values())[\\n    :70000:step\\n]\";\n",
       "                var nbb_formatted_code = \"train_losses[\\\"midas_hkrm_v2\\\"] = list(train_losses[\\\"midas_hkrm_v2\\\"].values())[\\n    :70000:step\\n]\";\n",
       "                var nbb_cells = Jupyter.notebook.get_cells();\n",
       "                for (var i = 0; i < nbb_cells.length; ++i) {\n",
       "                    if (nbb_cells[i].input_prompt_number == nbb_cell_id) {\n",
       "                        if (nbb_cells[i].get_text() == nbb_unformatted_code) {\n",
       "                             nbb_cells[i].set_text(nbb_formatted_code);\n",
       "                        }\n",
       "                        break;\n",
       "                    }\n",
       "                }\n",
       "            }, 500);\n",
       "            "
      ],
      "text/plain": [
       "<IPython.core.display.Javascript object>"
      ]
     },
     "metadata": {},
     "output_type": "display_data"
    }
   ],
   "source": [
    "train_losses[\"midas_hkrm_v2\"] = list(train_losses[\"midas_hkrm_v2\"].values())[\n",
    "    :70000:step\n",
    "]"
   ]
  },
  {
   "cell_type": "code",
   "execution_count": 87,
   "id": "8242df8a",
   "metadata": {},
   "outputs": [
    {
     "data": {
      "application/javascript": [
       "\n",
       "            setTimeout(function() {\n",
       "                var nbb_cell_id = 87;\n",
       "                var nbb_unformatted_code = \"train_losses[\\\"midas_hkrm_v3\\\"] = list(train_losses[\\\"midas_hkrm_v3\\\"].values())[\\n    :70000:step\\n]\";\n",
       "                var nbb_formatted_code = \"train_losses[\\\"midas_hkrm_v3\\\"] = list(train_losses[\\\"midas_hkrm_v3\\\"].values())[\\n    :70000:step\\n]\";\n",
       "                var nbb_cells = Jupyter.notebook.get_cells();\n",
       "                for (var i = 0; i < nbb_cells.length; ++i) {\n",
       "                    if (nbb_cells[i].input_prompt_number == nbb_cell_id) {\n",
       "                        if (nbb_cells[i].get_text() == nbb_unformatted_code) {\n",
       "                             nbb_cells[i].set_text(nbb_formatted_code);\n",
       "                        }\n",
       "                        break;\n",
       "                    }\n",
       "                }\n",
       "            }, 500);\n",
       "            "
      ],
      "text/plain": [
       "<IPython.core.display.Javascript object>"
      ]
     },
     "metadata": {},
     "output_type": "display_data"
    }
   ],
   "source": [
    "train_losses[\"midas_hkrm_v3\"] = list(train_losses[\"midas_hkrm_v3\"].values())[\n",
    "    :70000:step\n",
    "]"
   ]
  },
  {
   "cell_type": "code",
   "execution_count": 88,
   "id": "28ab5108",
   "metadata": {},
   "outputs": [
    {
     "data": {
      "application/javascript": [
       "\n",
       "            setTimeout(function() {\n",
       "                var nbb_cell_id = 88;\n",
       "                var nbb_unformatted_code = \"train_losses[\\\"midas_hkrm_v4\\\"] = list(train_losses[\\\"midas_hkrm_v4\\\"].values())[\\n    :70000:step\\n]\";\n",
       "                var nbb_formatted_code = \"train_losses[\\\"midas_hkrm_v4\\\"] = list(train_losses[\\\"midas_hkrm_v4\\\"].values())[\\n    :70000:step\\n]\";\n",
       "                var nbb_cells = Jupyter.notebook.get_cells();\n",
       "                for (var i = 0; i < nbb_cells.length; ++i) {\n",
       "                    if (nbb_cells[i].input_prompt_number == nbb_cell_id) {\n",
       "                        if (nbb_cells[i].get_text() == nbb_unformatted_code) {\n",
       "                             nbb_cells[i].set_text(nbb_formatted_code);\n",
       "                        }\n",
       "                        break;\n",
       "                    }\n",
       "                }\n",
       "            }, 500);\n",
       "            "
      ],
      "text/plain": [
       "<IPython.core.display.Javascript object>"
      ]
     },
     "metadata": {},
     "output_type": "display_data"
    }
   ],
   "source": [
    "train_losses[\"midas_hkrm_v4\"] = list(train_losses[\"midas_hkrm_v4\"].values())[\n",
    "    :70000:step\n",
    "]"
   ]
  },
  {
   "cell_type": "code",
   "execution_count": 89,
   "id": "c8f57dc4",
   "metadata": {},
   "outputs": [
    {
     "data": {
      "application/javascript": [
       "\n",
       "            setTimeout(function() {\n",
       "                var nbb_cell_id = 89;\n",
       "                var nbb_unformatted_code = \"train_losses[\\\"midas_hkrm_baseline\\\"] = list(\\n    train_losses[\\\"midas_hkrm_baseline\\\"].values()\\n)[:70000:step]\";\n",
       "                var nbb_formatted_code = \"train_losses[\\\"midas_hkrm_baseline\\\"] = list(\\n    train_losses[\\\"midas_hkrm_baseline\\\"].values()\\n)[:70000:step]\";\n",
       "                var nbb_cells = Jupyter.notebook.get_cells();\n",
       "                for (var i = 0; i < nbb_cells.length; ++i) {\n",
       "                    if (nbb_cells[i].input_prompt_number == nbb_cell_id) {\n",
       "                        if (nbb_cells[i].get_text() == nbb_unformatted_code) {\n",
       "                             nbb_cells[i].set_text(nbb_formatted_code);\n",
       "                        }\n",
       "                        break;\n",
       "                    }\n",
       "                }\n",
       "            }, 500);\n",
       "            "
      ],
      "text/plain": [
       "<IPython.core.display.Javascript object>"
      ]
     },
     "metadata": {},
     "output_type": "display_data"
    }
   ],
   "source": [
    "train_losses[\"midas_hkrm_baseline\"] = list(\n",
    "    train_losses[\"midas_hkrm_baseline\"].values()\n",
    ")[:70000:step]"
   ]
  },
  {
   "cell_type": "code",
   "execution_count": 90,
   "id": "a493a596",
   "metadata": {},
   "outputs": [
    {
     "data": {
      "application/javascript": [
       "\n",
       "            setTimeout(function() {\n",
       "                var nbb_cell_id = 90;\n",
       "                var nbb_unformatted_code = \"import seaborn as sns\";\n",
       "                var nbb_formatted_code = \"import seaborn as sns\";\n",
       "                var nbb_cells = Jupyter.notebook.get_cells();\n",
       "                for (var i = 0; i < nbb_cells.length; ++i) {\n",
       "                    if (nbb_cells[i].input_prompt_number == nbb_cell_id) {\n",
       "                        if (nbb_cells[i].get_text() == nbb_unformatted_code) {\n",
       "                             nbb_cells[i].set_text(nbb_formatted_code);\n",
       "                        }\n",
       "                        break;\n",
       "                    }\n",
       "                }\n",
       "            }, 500);\n",
       "            "
      ],
      "text/plain": [
       "<IPython.core.display.Javascript object>"
      ]
     },
     "metadata": {},
     "output_type": "display_data"
    }
   ],
   "source": [
    "import seaborn as sns"
   ]
  },
  {
   "cell_type": "code",
   "execution_count": 91,
   "id": "58b8baea",
   "metadata": {},
   "outputs": [
    {
     "data": {
      "application/javascript": [
       "\n",
       "            setTimeout(function() {\n",
       "                var nbb_cell_id = 91;\n",
       "                var nbb_unformatted_code = \"import matplotlib.pyplot as plt\";\n",
       "                var nbb_formatted_code = \"import matplotlib.pyplot as plt\";\n",
       "                var nbb_cells = Jupyter.notebook.get_cells();\n",
       "                for (var i = 0; i < nbb_cells.length; ++i) {\n",
       "                    if (nbb_cells[i].input_prompt_number == nbb_cell_id) {\n",
       "                        if (nbb_cells[i].get_text() == nbb_unformatted_code) {\n",
       "                             nbb_cells[i].set_text(nbb_formatted_code);\n",
       "                        }\n",
       "                        break;\n",
       "                    }\n",
       "                }\n",
       "            }, 500);\n",
       "            "
      ],
      "text/plain": [
       "<IPython.core.display.Javascript object>"
      ]
     },
     "metadata": {},
     "output_type": "display_data"
    }
   ],
   "source": [
    "import matplotlib.pyplot as plt"
   ]
  },
  {
   "cell_type": "code",
   "execution_count": 138,
   "id": "9c0606e2",
   "metadata": {},
   "outputs": [
    {
     "data": {
      "image/png": "[encoded data removed]",
      "text/plain": [
       "<Figure size 720x360 with 1 Axes>"
      ]
     },
     "metadata": {
      "needs_background": "light"
     },
     "output_type": "display_data"
    },
    {
     "data": {
      "application/javascript": [
       "\n",
       "            setTimeout(function() {\n",
       "                var nbb_cell_id = 138;\n",
       "                var nbb_unformatted_code = \"plt.figure(figsize=(10, 5))\\nplt.grid(True)\\nsns.lineplot(data=train_losses)\\nplt.title(\\\"Train losses for the first 70000 iterations and the 5 variants of the model\\\")\\nplt.xlabel(\\\"iteration / 10000\\\")\\nplt.ylabel(\\\"loss (SSIMAE)\\\")\\nplt.savefig(\\\"train_losses.jpg\\\")\";\n",
       "                var nbb_formatted_code = \"plt.figure(figsize=(10, 5))\\nplt.grid(True)\\nsns.lineplot(data=train_losses)\\nplt.title(\\\"Train losses for the first 70000 iterations and the 5 variants of the model\\\")\\nplt.xlabel(\\\"iteration / 10000\\\")\\nplt.ylabel(\\\"loss (SSIMAE)\\\")\\nplt.savefig(\\\"train_losses.jpg\\\")\";\n",
       "                var nbb_cells = Jupyter.notebook.get_cells();\n",
       "                for (var i = 0; i < nbb_cells.length; ++i) {\n",
       "                    if (nbb_cells[i].input_prompt_number == nbb_cell_id) {\n",
       "                        if (nbb_cells[i].get_text() == nbb_unformatted_code) {\n",
       "                             nbb_cells[i].set_text(nbb_formatted_code);\n",
       "                        }\n",
       "                        break;\n",
       "                    }\n",
       "                }\n",
       "            }, 500);\n",
       "            "
      ],
      "text/plain": [
       "<IPython.core.display.Javascript object>"
      ]
     },
     "metadata": {},
     "output_type": "display_data"
    }
   ],
   "source": [
    "plt.figure(figsize=(10, 5))\n",
    "plt.grid(True)\n",
    "sns.lineplot(data=train_losses)\n",
    "plt.title(\"Train losses for the first 70000 iterations and the 5 variants of the model\")\n",
    "plt.xlabel(\"iteration / 10000\")\n",
    "plt.ylabel(\"loss (SSIMAE)\")\n",
    "plt.savefig(\"train_losses.jpg\")"
   ]
  },
  {
   "cell_type": "markdown",
   "id": "4fd9ebaa",
   "metadata": {},
   "source": [
    "## Test losses"
   ]
  },
  {
   "cell_type": "code",
   "execution_count": 103,
   "id": "01c83cc4",
   "metadata": {},
   "outputs": [
    {
     "data": {
      "application/javascript": [
       "\n",
       "            setTimeout(function() {\n",
       "                var nbb_cell_id = 103;\n",
       "                var nbb_unformatted_code = \"import os\";\n",
       "                var nbb_formatted_code = \"import os\";\n",
       "                var nbb_cells = Jupyter.notebook.get_cells();\n",
       "                for (var i = 0; i < nbb_cells.length; ++i) {\n",
       "                    if (nbb_cells[i].input_prompt_number == nbb_cell_id) {\n",
       "                        if (nbb_cells[i].get_text() == nbb_unformatted_code) {\n",
       "                             nbb_cells[i].set_text(nbb_formatted_code);\n",
       "                        }\n",
       "                        break;\n",
       "                    }\n",
       "                }\n",
       "            }, 500);\n",
       "            "
      ],
      "text/plain": [
       "<IPython.core.display.Javascript object>"
      ]
     },
     "metadata": {},
     "output_type": "display_data"
    }
   ],
   "source": [
    "import os"
   ]
  },
  {
   "cell_type": "code",
   "execution_count": 132,
   "id": "91706241",
   "metadata": {},
   "outputs": [
    {
     "data": {
      "application/javascript": [
       "\n",
       "            setTimeout(function() {\n",
       "                var nbb_cell_id = 132;\n",
       "                var nbb_unformatted_code = \"import re\\nfrom collections import OrderedDict\\nimport pickle\";\n",
       "                var nbb_formatted_code = \"import re\\nfrom collections import OrderedDict\\nimport pickle\";\n",
       "                var nbb_cells = Jupyter.notebook.get_cells();\n",
       "                for (var i = 0; i < nbb_cells.length; ++i) {\n",
       "                    if (nbb_cells[i].input_prompt_number == nbb_cell_id) {\n",
       "                        if (nbb_cells[i].get_text() == nbb_unformatted_code) {\n",
       "                             nbb_cells[i].set_text(nbb_formatted_code);\n",
       "                        }\n",
       "                        break;\n",
       "                    }\n",
       "                }\n",
       "            }, 500);\n",
       "            "
      ],
      "text/plain": [
       "<IPython.core.display.Javascript object>"
      ]
     },
     "metadata": {},
     "output_type": "display_data"
    }
   ],
   "source": [
    "import re\n",
    "from collections import OrderedDict\n",
    "import pickle"
   ]
  },
  {
   "cell_type": "code",
   "execution_count": 119,
   "id": "b89a5b9c",
   "metadata": {},
   "outputs": [
    {
     "data": {
      "application/javascript": [
       "\n",
       "            setTimeout(function() {\n",
       "                var nbb_cell_id = 119;\n",
       "                var nbb_unformatted_code = \"iter_re = re.compile(\\\"state_(?P<iteration>[0-9]*).pickle\\\")\";\n",
       "                var nbb_formatted_code = \"iter_re = re.compile(\\\"state_(?P<iteration>[0-9]*).pickle\\\")\";\n",
       "                var nbb_cells = Jupyter.notebook.get_cells();\n",
       "                for (var i = 0; i < nbb_cells.length; ++i) {\n",
       "                    if (nbb_cells[i].input_prompt_number == nbb_cell_id) {\n",
       "                        if (nbb_cells[i].get_text() == nbb_unformatted_code) {\n",
       "                             nbb_cells[i].set_text(nbb_formatted_code);\n",
       "                        }\n",
       "                        break;\n",
       "                    }\n",
       "                }\n",
       "            }, 500);\n",
       "            "
      ],
      "text/plain": [
       "<IPython.core.display.Javascript object>"
      ]
     },
     "metadata": {},
     "output_type": "display_data"
    }
   ],
   "source": [
    "iter_re = re.compile(\"state_(?P<iteration>[0-9]*).pickle\")"
   ]
  },
  {
   "cell_type": "code",
   "execution_count": 121,
   "id": "186b5a0b",
   "metadata": {},
   "outputs": [
    {
     "data": {
      "text/plain": [
       "'50000'"
      ]
     },
     "execution_count": 121,
     "metadata": {},
     "output_type": "execute_result"
    },
    {
     "data": {
      "application/javascript": [
       "\n",
       "            setTimeout(function() {\n",
       "                var nbb_cell_id = 121;\n",
       "                var nbb_unformatted_code = \"iter_re.fullmatch(\\\"state_50000.pickle\\\")['iteration']\";\n",
       "                var nbb_formatted_code = \"iter_re.fullmatch(\\\"state_50000.pickle\\\")[\\\"iteration\\\"]\";\n",
       "                var nbb_cells = Jupyter.notebook.get_cells();\n",
       "                for (var i = 0; i < nbb_cells.length; ++i) {\n",
       "                    if (nbb_cells[i].input_prompt_number == nbb_cell_id) {\n",
       "                        if (nbb_cells[i].get_text() == nbb_unformatted_code) {\n",
       "                             nbb_cells[i].set_text(nbb_formatted_code);\n",
       "                        }\n",
       "                        break;\n",
       "                    }\n",
       "                }\n",
       "            }, 500);\n",
       "            "
      ],
      "text/plain": [
       "<IPython.core.display.Javascript object>"
      ]
     },
     "metadata": {},
     "output_type": "display_data"
    }
   ],
   "source": [
    "iter_re.fullmatch(\"state_50000.pickle\")[\"iteration\"]"
   ]
  },
  {
   "cell_type": "code",
   "execution_count": 149,
   "id": "c32206eb",
   "metadata": {
    "scrolled": false
   },
   "outputs": [
    {
     "name": "stdout",
     "output_type": "stream",
     "text": [
      "[(10000, 0.9701346206665039), (50000, 0.8815432612101237), (40000, 0.9002616628011068), (20000, 0.9326183700561523), (60000, 0.8747562090555827), (70000, 0.8638640530904134), (0, 1.5456031163533528), (30000, 0.9105792872111003)]\n",
      "[(9999, 0.7085500208536784), (79999, 0.6828040568033854), (0, 0.8242883237202963), (29999, 0.7222916412353516), (89999, 0.6831610425313314), (39999, 0.6946697934468588), (19999, 0.7058426793416341), (49999, 0.7003979110717773), (69999, 0.6849006779988607), (59999, 0.6904962857564291)]\n",
      "[(9999, 0.6910744031270345), (0, 1.7260772959391275), (29999, 0.660183842976888), (39999, 0.6829019927978516), (19999, 0.6822305170694987), (49999, 0.6792111015319824), (69999, 0.6656938934326172), (59999, 0.6614983240763347)]\n",
      "[(9999, 1.0987030919392904), (79999, 1.022517484029134), (0, 1.7418441009521484), (29999, 1.0518748219807943), (89999, 1.0234021250406902), (39999, 1.0460446039835611), (19999, 1.0956473922729493), (49999, 1.036259930928548), (69999, 1.0302981694539388), (59999, 1.0329566065470377)]\n",
      "[(9999, 1.1018739064534506), (79999, 1.019589131673177), (0, 2.5168084971110027), (29999, 1.0592617797851562), (39999, 1.048030242919922), (19999, 1.0828308741251627), (49999, 1.0429593404134114), (69999, 1.0256778335571288), (59999, 1.033392422993978)]\n"
     ]
    },
    {
     "data": {
      "application/javascript": [
       "\n",
       "            setTimeout(function() {\n",
       "                var nbb_cell_id = 149;\n",
       "                var nbb_unformatted_code = \"test_losses = dict()\\nfor k, v in output_dirs.items():\\n    _, folder = v\\n    state_files = os.listdir(folder)\\n    losses = []\\n    for state_file in state_files:\\n        iteration = int(iter_re.fullmatch(state_file)[\\\"iteration\\\"])\\n        with open(os.path.join(folder, state_file), \\\"rb\\\") as handle:\\n            losses.append((iteration, sum(pickle.load(handle)[\\\"test\\\"].values()) / 600))\\n    print(losses)\\n    test_losses[k] = OrderedDict(sorted(losses, key=lambda x: x[0]))\";\n",
       "                var nbb_formatted_code = \"test_losses = dict()\\nfor k, v in output_dirs.items():\\n    _, folder = v\\n    state_files = os.listdir(folder)\\n    losses = []\\n    for state_file in state_files:\\n        iteration = int(iter_re.fullmatch(state_file)[\\\"iteration\\\"])\\n        with open(os.path.join(folder, state_file), \\\"rb\\\") as handle:\\n            losses.append((iteration, sum(pickle.load(handle)[\\\"test\\\"].values()) / 600))\\n    print(losses)\\n    test_losses[k] = OrderedDict(sorted(losses, key=lambda x: x[0]))\";\n",
       "                var nbb_cells = Jupyter.notebook.get_cells();\n",
       "                for (var i = 0; i < nbb_cells.length; ++i) {\n",
       "                    if (nbb_cells[i].input_prompt_number == nbb_cell_id) {\n",
       "                        if (nbb_cells[i].get_text() == nbb_unformatted_code) {\n",
       "                             nbb_cells[i].set_text(nbb_formatted_code);\n",
       "                        }\n",
       "                        break;\n",
       "                    }\n",
       "                }\n",
       "            }, 500);\n",
       "            "
      ],
      "text/plain": [
       "<IPython.core.display.Javascript object>"
      ]
     },
     "metadata": {},
     "output_type": "display_data"
    }
   ],
   "source": [
    "test_losses = dict()\n",
    "for k, v in output_dirs.items():\n",
    "    _, folder = v\n",
    "    state_files = os.listdir(folder)\n",
    "    losses = []\n",
    "    for state_file in state_files:\n",
    "        iteration = int(iter_re.fullmatch(state_file)[\"iteration\"])\n",
    "        with open(os.path.join(folder, state_file), \"rb\") as handle:\n",
    "            losses.append((iteration, sum(pickle.load(handle)[\"test\"].values()) / 600))\n",
    "    print(losses)\n",
    "    test_losses[k] = OrderedDict(sorted(losses, key=lambda x: x[0]))"
   ]
  },
  {
   "cell_type": "code",
   "execution_count": 150,
   "id": "949e82b9",
   "metadata": {},
   "outputs": [
    {
     "data": {
      "text/plain": [
       "{'midas_hkrm_random': OrderedDict([(0, 1.5456031163533528),\n",
       "              (10000, 0.9701346206665039),\n",
       "              (20000, 0.9326183700561523),\n",
       "              (30000, 0.9105792872111003),\n",
       "              (40000, 0.9002616628011068),\n",
       "              (50000, 0.8815432612101237),\n",
       "              (60000, 0.8747562090555827),\n",
       "              (70000, 0.8638640530904134)]),\n",
       " 'midas_hkrm_v2': OrderedDict([(0, 0.8242883237202963),\n",
       "              (9999, 0.7085500208536784),\n",
       "              (19999, 0.7058426793416341),\n",
       "              (29999, 0.7222916412353516),\n",
       "              (39999, 0.6946697934468588),\n",
       "              (49999, 0.7003979110717773),\n",
       "              (59999, 0.6904962857564291),\n",
       "              (69999, 0.6849006779988607),\n",
       "              (79999, 0.6828040568033854),\n",
       "              (89999, 0.6831610425313314)]),\n",
       " 'midas_hkrm_v3': OrderedDict([(0, 1.7260772959391275),\n",
       "              (9999, 0.6910744031270345),\n",
       "              (19999, 0.6822305170694987),\n",
       "              (29999, 0.660183842976888),\n",
       "              (39999, 0.6829019927978516),\n",
       "              (49999, 0.6792111015319824),\n",
       "              (59999, 0.6614983240763347),\n",
       "              (69999, 0.6656938934326172)]),\n",
       " 'midas_hkrm_v4': OrderedDict([(0, 1.7418441009521484),\n",
       "              (9999, 1.0987030919392904),\n",
       "              (19999, 1.0956473922729493),\n",
       "              (29999, 1.0518748219807943),\n",
       "              (39999, 1.0460446039835611),\n",
       "              (49999, 1.036259930928548),\n",
       "              (59999, 1.0329566065470377),\n",
       "              (69999, 1.0302981694539388),\n",
       "              (79999, 1.022517484029134),\n",
       "              (89999, 1.0234021250406902)]),\n",
       " 'midas_hkrm_baseline': OrderedDict([(0, 2.5168084971110027),\n",
       "              (9999, 1.1018739064534506),\n",
       "              (19999, 1.0828308741251627),\n",
       "              (29999, 1.0592617797851562),\n",
       "              (39999, 1.048030242919922),\n",
       "              (49999, 1.0429593404134114),\n",
       "              (59999, 1.033392422993978),\n",
       "              (69999, 1.0256778335571288),\n",
       "              (79999, 1.019589131673177)])}"
      ]
     },
     "execution_count": 150,
     "metadata": {},
     "output_type": "execute_result"
    },
    {
     "data": {
      "application/javascript": [
       "\n",
       "            setTimeout(function() {\n",
       "                var nbb_cell_id = 150;\n",
       "                var nbb_unformatted_code = \"test_losses\";\n",
       "                var nbb_formatted_code = \"test_losses\";\n",
       "                var nbb_cells = Jupyter.notebook.get_cells();\n",
       "                for (var i = 0; i < nbb_cells.length; ++i) {\n",
       "                    if (nbb_cells[i].input_prompt_number == nbb_cell_id) {\n",
       "                        if (nbb_cells[i].get_text() == nbb_unformatted_code) {\n",
       "                             nbb_cells[i].set_text(nbb_formatted_code);\n",
       "                        }\n",
       "                        break;\n",
       "                    }\n",
       "                }\n",
       "            }, 500);\n",
       "            "
      ],
      "text/plain": [
       "<IPython.core.display.Javascript object>"
      ]
     },
     "metadata": {},
     "output_type": "display_data"
    }
   ],
   "source": [
    "test_losses"
   ]
  },
  {
   "cell_type": "code",
   "execution_count": 152,
   "id": "702c3754",
   "metadata": {},
   "outputs": [
    {
     "data": {
      "application/javascript": [
       "\n",
       "            setTimeout(function() {\n",
       "                var nbb_cell_id = 152;\n",
       "                var nbb_unformatted_code = \"for k, v in test_losses.items():\\n    test_losses[k] = list(v.values())[:8]\";\n",
       "                var nbb_formatted_code = \"for k, v in test_losses.items():\\n    test_losses[k] = list(v.values())[:8]\";\n",
       "                var nbb_cells = Jupyter.notebook.get_cells();\n",
       "                for (var i = 0; i < nbb_cells.length; ++i) {\n",
       "                    if (nbb_cells[i].input_prompt_number == nbb_cell_id) {\n",
       "                        if (nbb_cells[i].get_text() == nbb_unformatted_code) {\n",
       "                             nbb_cells[i].set_text(nbb_formatted_code);\n",
       "                        }\n",
       "                        break;\n",
       "                    }\n",
       "                }\n",
       "            }, 500);\n",
       "            "
      ],
      "text/plain": [
       "<IPython.core.display.Javascript object>"
      ]
     },
     "metadata": {},
     "output_type": "display_data"
    }
   ],
   "source": [
    "for k, v in test_losses.items():\n",
    "    test_losses[k] = list(v.values())[:8]"
   ]
  },
  {
   "cell_type": "code",
   "execution_count": 153,
   "id": "bb39624f",
   "metadata": {},
   "outputs": [
    {
     "data": {
      "image/png": "[encoded data removed]",
      "text/plain": [
       "<Figure size 720x360 with 1 Axes>"
      ]
     },
     "metadata": {
      "needs_background": "light"
     },
     "output_type": "display_data"
    },
    {
     "data": {
      "application/javascript": [
       "\n",
       "            setTimeout(function() {\n",
       "                var nbb_cell_id = 153;\n",
       "                var nbb_unformatted_code = \"plt.figure(figsize=(10, 5))\\nplt.grid(True)\\nsns.lineplot(data=test_losses)\\nplt.title(\\\"Test losses for the first 70000 iterations and the 5 variants of the model\\\")\\nplt.xlabel(\\\"iteration / 10000\\\")\\nplt.ylabel(\\\"loss (SSIMAE)\\\")\\nplt.savefig(\\\"test_losses.jpg\\\")\";\n",
       "                var nbb_formatted_code = \"plt.figure(figsize=(10, 5))\\nplt.grid(True)\\nsns.lineplot(data=test_losses)\\nplt.title(\\\"Test losses for the first 70000 iterations and the 5 variants of the model\\\")\\nplt.xlabel(\\\"iteration / 10000\\\")\\nplt.ylabel(\\\"loss (SSIMAE)\\\")\\nplt.savefig(\\\"test_losses.jpg\\\")\";\n",
       "                var nbb_cells = Jupyter.notebook.get_cells();\n",
       "                for (var i = 0; i < nbb_cells.length; ++i) {\n",
       "                    if (nbb_cells[i].input_prompt_number == nbb_cell_id) {\n",
       "                        if (nbb_cells[i].get_text() == nbb_unformatted_code) {\n",
       "                             nbb_cells[i].set_text(nbb_formatted_code);\n",
       "                        }\n",
       "                        break;\n",
       "                    }\n",
       "                }\n",
       "            }, 500);\n",
       "            "
      ],
      "text/plain": [
       "<IPython.core.display.Javascript object>"
      ]
     },
     "metadata": {},
     "output_type": "display_data"
    }
   ],
   "source": [
    "plt.figure(figsize=(10, 5))\n",
    "plt.grid(True)\n",
    "sns.lineplot(data=test_losses)\n",
    "plt.title(\"Test losses for the first 70000 iterations and the 5 variants of the model\")\n",
    "plt.xlabel(\"iteration / 10000\")\n",
    "plt.ylabel(\"loss (SSIMAE)\")\n",
    "plt.savefig(\"test_losses.jpg\")"
   ]
  },
  {
   "cell_type": "code",
   "execution_count": null,
   "id": "45d98406",
   "metadata": {},
   "outputs": [],
   "source": []
  }
 ],
 "metadata": {
  "kernelspec": {
   "display_name": "Python 3 (ipykernel)",
   "language": "python",
   "name": "python3"
  },
  "language_info": {
   "codemirror_mode": {
    "name": "ipython",
    "version": 3
   },
   "file_extension": ".py",
   "mimetype": "text/x-python",
   "name": "python",
   "nbconvert_exporter": "python",
   "pygments_lexer": "ipython3",
   "version": "3.9.7"
  }
 },
 "nbformat": 4,
 "nbformat_minor": 5
}
