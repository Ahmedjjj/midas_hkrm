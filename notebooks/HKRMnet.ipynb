{
 "cells": [
  {
   "cell_type": "code",
   "execution_count": 1,
   "id": "9a2f25e6",
   "metadata": {},
   "outputs": [],
   "source": [
    "%load_ext autoreload\n",
    "%autoreload 2"
   ]
  },
  {
   "cell_type": "code",
   "execution_count": 2,
   "id": "62ba86c5",
   "metadata": {
    "scrolled": true
   },
   "outputs": [],
   "source": [
    "import sys, os\n",
    "sys.path.append(os.path.normpath(os.path.join(os.getcwd(), '..')))\n",
    "sys.path.append(os.path.normpath(os.path.join(os.getcwd(), '..', 'external', 'MiDaS')))"
   ]
  },
  {
   "cell_type": "code",
   "execution_count": 3,
   "id": "4f576c22",
   "metadata": {},
   "outputs": [
    {
     "name": "stdout",
     "output_type": "stream",
     "text": [
      "env: CUDA_VISIBLE_DEVICES=3\n"
     ]
    }
   ],
   "source": [
    "%env CUDA_VISIBLE_DEVICES=3"
   ]
  },
  {
   "cell_type": "code",
   "execution_count": 6,
   "id": "2637a5af",
   "metadata": {},
   "outputs": [],
   "source": [
    "import detectron2\n",
    "from detectron2.utils.logger import setup_logger\n",
    "setup_logger()\n",
    "from detectron2 import model_zoo\n",
    "from detectron2.engine import DefaultPredictor\n",
    "from detectron2.modeling import build_model\n",
    "from detectron2.config import get_cfg\n",
    "from detectron2.utils.visualizer import Visualizer\n",
    "from detectron2.data import MetadataCatalog, DatasetCatalog\n",
    "import detectron2.data.transforms as T\n",
    "from detectron2.structures import ImageList\n",
    "from detectron2.modeling.meta_arch.rcnn import GeneralizedRCNN\n",
    "from detectron2.checkpoint import DetectionCheckpointer\n",
    "\n",
    "from src.datasets import ApolloScape, HRWSI, RedWeb \n",
    "from src.objects.features import GeneralizedRCNNObjectDetector \n",
    "import matplotlib.pyplot as plt\n",
    "import torch\n",
    "\n",
    "from src.utils.objects_utils import construct_config"
   ]
  },
  {
   "cell_type": "code",
   "execution_count": 7,
   "id": "2269d77e",
   "metadata": {},
   "outputs": [],
   "source": [
    "hrwsi = iter(HRWSI())\n",
    "redweb = iter(RedWeb())\n",
    "apollo = iter(ApolloScape())"
   ]
  },
  {
   "cell_type": "code",
   "execution_count": 8,
   "id": "a1024319",
   "metadata": {},
   "outputs": [],
   "source": [
    "img1, _ = next(hrwsi)"
   ]
  },
  {
   "cell_type": "code",
   "execution_count": 9,
   "id": "10fb8567",
   "metadata": {},
   "outputs": [],
   "source": [
    "img2, _ = next(redweb)"
   ]
  },
  {
   "cell_type": "code",
   "execution_count": 10,
   "id": "7262a66a",
   "metadata": {},
   "outputs": [],
   "source": [
    "img3, _ = next(apollo)"
   ]
  },
  {
   "cell_type": "code",
   "execution_count": 11,
   "id": "6d3938dd",
   "metadata": {},
   "outputs": [],
   "source": [
    "cfg = construct_config()\n",
    "cfg.MODEL.WEIGHTS = '/runai-ivrl-scratch/students/2021-fall-sp-jellouli/output/model_final.pth'"
   ]
  },
  {
   "cell_type": "code",
   "execution_count": 25,
   "id": "fa8c6938",
   "metadata": {
    "scrolled": true
   },
   "outputs": [],
   "source": [
    "detector = GeneralizedRCNNObjectDetector(cfg, resize=True)"
   ]
  },
  {
   "cell_type": "code",
   "execution_count": 26,
   "id": "69c0b5a6",
   "metadata": {},
   "outputs": [],
   "source": [
    "features = detector.get_object_features([img1, img2, img3], outputs=[\"features\", \"masks\"])"
   ]
  },
  {
   "cell_type": "code",
   "execution_count": 18,
   "id": "f3bb701b",
   "metadata": {},
   "outputs": [
    {
     "data": {
      "text/plain": [
       "torch.Size([78, 1024])"
      ]
     },
     "execution_count": 18,
     "metadata": {},
     "output_type": "execute_result"
    }
   ],
   "source": [
    "features[0].shape"
   ]
  },
  {
   "cell_type": "code",
   "execution_count": 28,
   "id": "1b727ab5",
   "metadata": {},
   "outputs": [
    {
     "data": {
      "text/plain": [
       "torch.Size([11, 587, 772])"
      ]
     },
     "execution_count": 28,
     "metadata": {},
     "output_type": "execute_result"
    }
   ],
   "source": [
    "features[1][1].shape"
   ]
  },
  {
   "cell_type": "code",
   "execution_count": null,
   "id": "f84412a0",
   "metadata": {},
   "outputs": [],
   "source": []
  }
 ],
 "metadata": {
  "kernelspec": {
   "display_name": "Python 3 (ipykernel)",
   "language": "python",
   "name": "python3"
  },
  "language_info": {
   "codemirror_mode": {
    "name": "ipython",
    "version": 3
   },
   "file_extension": ".py",
   "mimetype": "text/x-python",
   "name": "python",
   "nbconvert_exporter": "python",
   "pygments_lexer": "ipython3",
   "version": "3.9.7"
  }
 },
 "nbformat": 4,
 "nbformat_minor": 5
}
