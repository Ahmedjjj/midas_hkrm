{
 "cells": [
  {
   "cell_type": "code",
   "execution_count": 3,
   "id": "c814dd04",
   "metadata": {},
   "outputs": [],
   "source": [
    "%load_ext autoreload\n",
    "%autoreload 2 "
   ]
  },
  {
   "cell_type": "code",
   "execution_count": 4,
   "id": "73785462",
   "metadata": {},
   "outputs": [],
   "source": [
    "import os\n",
    "import sys"
   ]
  },
  {
   "cell_type": "code",
   "execution_count": 5,
   "id": "598515b3",
   "metadata": {},
   "outputs": [
    {
     "name": "stdout",
     "output_type": "stream",
     "text": [
      "env: CUDA_VISIBLE_DEVICES=3\n"
     ]
    }
   ],
   "source": [
    "%env CUDA_VISIBLE_DEVICES=3"
   ]
  },
  {
   "cell_type": "code",
   "execution_count": 6,
   "id": "62ba86c5",
   "metadata": {
    "scrolled": true
   },
   "outputs": [],
   "source": [
    "sys.path.append(os.path.normpath(os.path.join(os.getcwd(), '..')))\n",
    "sys.path.append(os.path.normpath(os.path.join(os.getcwd(), '..', 'external', 'MiDaS')))"
   ]
  },
  {
   "cell_type": "code",
   "execution_count": 7,
   "id": "fa543452",
   "metadata": {},
   "outputs": [],
   "source": [
    "from src.depth.midas_hkrm import MidasHKRMNet\n",
    "from src.objects.features import GeneralizedRCNNObjectDetector"
   ]
  },
  {
   "cell_type": "code",
   "execution_count": 8,
   "id": "f08f96d5",
   "metadata": {},
   "outputs": [],
   "source": [
    "from detectron2.evaluation import COCOEvaluator\n",
    "from detectron2.data import MetadataCatalog\n",
    "import detectron2\n",
    "from detectron2.utils.logger import setup_logger\n",
    "setup_logger()\n",
    "from detectron2 import model_zoo\n",
    "from detectron2.engine import DefaultPredictor\n",
    "from detectron2.config import get_cfg\n",
    "from detectron2.utils.visualizer import Visualizer\n",
    "from detectron2.data import MetadataCatalog, DatasetCatalog, build_detection_test_loader, DatasetMapper\n",
    "from detectron2.evaluation import inference_on_dataset\n",
    "import torch\n",
    "\n",
    "from src.utils.objects_utils import get_hkrm_model, construct_config\n",
    "import src.objects\n",
    "from detectron2.modeling import build_model\n",
    "from src.datasets import HRWSI, ApolloScape, RedWeb\n",
    "import matplotlib.pyplot as plt\n",
    "import numpy as np"
   ]
  },
  {
   "cell_type": "code",
   "execution_count": 9,
   "id": "12c57264",
   "metadata": {},
   "outputs": [],
   "source": [
    "cfg = construct_config()\n",
    "cfg.MODEL.WEIGHTS = '/runai-ivrl-scratch/students/2021-fall-sp-jellouli/output/model_final.pth'"
   ]
  },
  {
   "cell_type": "code",
   "execution_count": 10,
   "id": "328005f5",
   "metadata": {},
   "outputs": [],
   "source": [
    "detector = GeneralizedRCNNObjectDetector(cfg)"
   ]
  },
  {
   "cell_type": "code",
   "execution_count": 11,
   "id": "39449676",
   "metadata": {},
   "outputs": [
    {
     "name": "stderr",
     "output_type": "stream",
     "text": [
      "Using cache found in /runai-ivrl-scratch/students/2021-fall-sp-jellouli/.cache/torch/hub/facebookresearch_WSL-Images_main\n"
     ]
    }
   ],
   "source": [
    "model = MidasHKRMNet(detector, 10, device='cuda')"
   ]
  },
  {
   "cell_type": "code",
   "execution_count": 12,
   "id": "fc5efd83",
   "metadata": {},
   "outputs": [],
   "source": [
    "hrwsi = iter(HRWSI())"
   ]
  },
  {
   "cell_type": "code",
   "execution_count": 13,
   "id": "b473aeb6",
   "metadata": {},
   "outputs": [],
   "source": [
    "img, label = next(hrwsi)"
   ]
  },
  {
   "cell_type": "code",
   "execution_count": 14,
   "id": "bb067742",
   "metadata": {},
   "outputs": [],
   "source": [
    "apollo = iter(ApolloScape())\n",
    "redweb = iter(RedWeb())"
   ]
  },
  {
   "cell_type": "code",
   "execution_count": 15,
   "id": "5df3a833",
   "metadata": {},
   "outputs": [
    {
     "name": "stderr",
     "output_type": "stream",
     "text": [
      "Using cache found in /runai-ivrl-scratch/students/2021-fall-sp-jellouli/.cache/torch/hub/intel-isl_MiDaS_master\n"
     ]
    }
   ],
   "source": [
    "trans = torch.hub.load(\"intel-isl/MiDaS\", \"transforms\")"
   ]
  },
  {
   "cell_type": "code",
   "execution_count": 16,
   "id": "e6717fc3",
   "metadata": {},
   "outputs": [],
   "source": [
    "img, _ = next(apollo)"
   ]
  },
  {
   "cell_type": "code",
   "execution_count": 47,
   "id": "dabb6945",
   "metadata": {
    "scrolled": true
   },
   "outputs": [
    {
     "data": {
      "text/plain": [
       "torch.Size([1, 3, 128, 384])"
      ]
     },
     "execution_count": 47,
     "metadata": {},
     "output_type": "execute_result"
    }
   ],
   "source": [
    "trans.default_transform(img).shape"
   ]
  },
  {
   "cell_type": "code",
   "execution_count": 27,
   "id": "a5403929",
   "metadata": {},
   "outputs": [
    {
     "data": {
      "text/plain": [
       "tensor([[[0.2460, 0.2361, 0.2446,  ..., 0.2401, 0.2370, 0.2434],\n",
       "         [0.1868, 0.1788, 0.1683,  ..., 0.2102, 0.2139, 0.2507],\n",
       "         [0.1828, 0.1594, 0.1532,  ..., 0.2153, 0.2100, 0.2505],\n",
       "         ...,\n",
       "         [0.2422, 0.2346, 0.1984,  ..., 0.2401, 0.2431, 0.3019],\n",
       "         [0.2611, 0.2571, 0.2188,  ..., 0.2530, 0.2539, 0.3079],\n",
       "         [0.2320, 0.2750, 0.2503,  ..., 0.2556, 0.2629, 0.2907]]],\n",
       "       device='cuda:0', grad_fn=<SqueezeBackward1>)"
      ]
     },
     "execution_count": 27,
     "metadata": {},
     "output_type": "execute_result"
    }
   ],
   "source": [
    "model([img], trans.default_transform(img).to('cuda'))"
   ]
  },
  {
   "cell_type": "code",
   "execution_count": 25,
   "id": "bfe3eee7",
   "metadata": {},
   "outputs": [
    {
     "data": {
      "text/plain": [
       "(668, 900, 3)"
      ]
     },
     "execution_count": 25,
     "metadata": {},
     "output_type": "execute_result"
    }
   ],
   "source": [
    "img.shape"
   ]
  },
  {
   "cell_type": "code",
   "execution_count": 21,
   "id": "1ac2d8e1",
   "metadata": {},
   "outputs": [],
   "source": [
    "import torch.nn.functional as F"
   ]
  },
  {
   "cell_type": "code",
   "execution_count": null,
   "id": "783cc319",
   "metadata": {},
   "outputs": [],
   "source": [
    "torch.randn((1, 10))"
   ]
  },
  {
   "cell_type": "code",
   "execution_count": 26,
   "id": "fec5569d",
   "metadata": {
    "scrolled": true
   },
   "outputs": [
    {
     "data": {
      "text/plain": [
       "<function torch.nn.functional.interpolate(input, size=None, scale_factor=None, mode='nearest', align_corners=None, recompute_scale_factor=None)>"
      ]
     },
     "execution_count": 26,
     "metadata": {},
     "output_type": "execute_result"
    }
   ],
   "source": [
    "F.interpolate"
   ]
  },
  {
   "cell_type": "code",
   "execution_count": 49,
   "id": "4c59609f",
   "metadata": {},
   "outputs": [],
   "source": [
    "a = torch.randn((1,1024))"
   ]
  },
  {
   "cell_type": "code",
   "execution_count": 53,
   "id": "d1582cdd",
   "metadata": {},
   "outputs": [],
   "source": [
    "import torchvision.transforms.functional as TF"
   ]
  },
  {
   "cell_type": "code",
   "execution_count": 58,
   "id": "7c4be9a3",
   "metadata": {
    "scrolled": true
   },
   "outputs": [
    {
     "data": {
      "text/plain": [
       "torch.Size([1, 128, 256])"
      ]
     },
     "execution_count": 58,
     "metadata": {},
     "output_type": "execute_result"
    }
   ],
   "source": [
    "TF.resize(a.reshape(1, 32, 32), size= (128, 256)).shape"
   ]
  },
  {
   "cell_type": "code",
   "execution_count": 21,
   "id": "75943a2c",
   "metadata": {},
   "outputs": [],
   "source": [
    "a = torch.zeros((1, 1024))"
   ]
  },
  {
   "cell_type": "code",
   "execution_count": 22,
   "id": "1c659806",
   "metadata": {},
   "outputs": [],
   "source": [
    "\n",
    "b = torch.ones((1,1024))"
   ]
  },
  {
   "cell_type": "code",
   "execution_count": 23,
   "id": "d8e80d9d",
   "metadata": {},
   "outputs": [],
   "source": [
    "\n",
    "c = torch.cat((a,b)).reshape(2, 32 ,32)"
   ]
  },
  {
   "cell_type": "code",
   "execution_count": 66,
   "id": "d19a5729",
   "metadata": {},
   "outputs": [
    {
     "data": {
      "text/plain": [
       "torch.Size([2, 32, 32])"
      ]
     },
     "execution_count": 66,
     "metadata": {},
     "output_type": "execute_result"
    }
   ],
   "source": [
    "c.shape"
   ]
  },
  {
   "cell_type": "code",
   "execution_count": 68,
   "id": "623bcf1b",
   "metadata": {},
   "outputs": [
    {
     "data": {
      "text/plain": [
       "torch.Size([2, 64, 64])"
      ]
     },
     "execution_count": 68,
     "metadata": {},
     "output_type": "execute_result"
    }
   ],
   "source": [
    "TF.resize(c, (64, 64)).shape"
   ]
  },
  {
   "cell_type": "code",
   "execution_count": 25,
   "id": "b4c64aa5",
   "metadata": {},
   "outputs": [
    {
     "data": {
      "text/plain": [
       "torch.Size([2, 32, 28])"
      ]
     },
     "execution_count": 25,
     "metadata": {},
     "output_type": "execute_result"
    }
   ],
   "source": [
    "model._resize_features(c, (32,28)).shape"
   ]
  },
  {
   "cell_type": "code",
   "execution_count": null,
   "id": "6a90fc3f",
   "metadata": {},
   "outputs": [],
   "source": []
  }
 ],
 "metadata": {
  "kernelspec": {
   "display_name": "Python 3 (ipykernel)",
   "language": "python",
   "name": "python3"
  },
  "language_info": {
   "codemirror_mode": {
    "name": "ipython",
    "version": 3
   },
   "file_extension": ".py",
   "mimetype": "text/x-python",
   "name": "python",
   "nbconvert_exporter": "python",
   "pygments_lexer": "ipython3",
   "version": "3.9.7"
  }
 },
 "nbformat": 4,
 "nbformat_minor": 5
}
