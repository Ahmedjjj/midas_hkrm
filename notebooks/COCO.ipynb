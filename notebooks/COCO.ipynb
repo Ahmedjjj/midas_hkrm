{
 "cells": [
  {
   "cell_type": "code",
   "execution_count": 1,
   "id": "c814dd04",
   "metadata": {},
   "outputs": [],
   "source": [
    "%load_ext autoreload\n",
    "%autoreload 2 "
   ]
  },
  {
   "cell_type": "code",
   "execution_count": 6,
   "id": "8d815329",
   "metadata": {},
   "outputs": [],
   "source": [
    "from detectron2.data import DatasetCatalog, MetadataCatalog, build_detection_train_loader, DatasetMapper\n",
    "\n",
    "from pycocotools import coco\n",
    "\n",
    "import torch\n",
    "\n",
    "import pickle\n",
    "\n",
    "from torch import nn\n",
    "\n",
    "import src.objects.hkrm_roi_heads as hkrm\n",
    "from src.objects.hkrm_roi_heads import ExplicitFeatureRelationshipModule, HKRMBoxHead, HKRMROIHeads"
   ]
  },
  {
   "cell_type": "code",
   "execution_count": 2,
   "id": "36ff6829",
   "metadata": {},
   "outputs": [],
   "source": [
    "import detectron2\n",
    "from detectron2.utils.logger import setup_logger\n",
    "setup_logger()\n",
    "from detectron2 import model_zoo\n",
    "from detectron2.engine import DefaultPredictor\n",
    "from detectron2.config import get_cfg\n",
    "from detectron2.utils.visualizer import Visualizer\n",
    "from detectron2.data import MetadataCatalog, DatasetCatalog\n",
    "from detectron2.modeling import build_model\n",
    "from detectron2.config.config import CfgNode"
   ]
  },
  {
   "cell_type": "code",
   "execution_count": 4,
   "id": "d849fa7a",
   "metadata": {
    "scrolled": true
   },
   "outputs": [],
   "source": [
    "build_model(cfg)"
   ]
  },
  {
   "cell_type": "code",
   "execution_count": 4,
   "id": "2950b6f6",
   "metadata": {},
   "outputs": [],
   "source": [
    "from src.utils.objects_utils import construct_config"
   ]
  },
  {
   "cell_type": "code",
   "execution_count": 5,
   "id": "deca3ae0",
   "metadata": {},
   "outputs": [],
   "source": [
    "cfg = construct_config()"
   ]
  },
  {
   "cell_type": "code",
   "execution_count": 6,
   "id": "8210ac9c",
   "metadata": {},
   "outputs": [],
   "source": [
    "from detectron2.engine.defaults import DefaultTrainer"
   ]
  }
 ],
 "metadata": {
  "kernelspec": {
   "display_name": "jellouli-env",
   "language": "python",
   "name": "jellouli-env"
  },
  "language_info": {
   "codemirror_mode": {
    "name": "ipython",
    "version": 3
   },
   "file_extension": ".py",
   "mimetype": "text/x-python",
   "name": "python",
   "nbconvert_exporter": "python",
   "pygments_lexer": "ipython3",
   "version": "3.9.5"
  }
 },
 "nbformat": 4,
 "nbformat_minor": 5
}
