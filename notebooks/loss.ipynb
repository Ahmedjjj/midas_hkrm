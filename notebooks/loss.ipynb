{
 "cells": [
  {
   "cell_type": "code",
   "execution_count": 1,
   "id": "87d95c2d",
   "metadata": {},
   "outputs": [],
   "source": [
    "%load_ext autoreload\n",
    "%autoreload 2"
   ]
  },
  {
   "cell_type": "code",
   "execution_count": 2,
   "id": "ce59ebb1",
   "metadata": {},
   "outputs": [],
   "source": [
    "import os, sys\n",
    "sys.path.append(os.path.normpath(os.path.join(os.getcwd(), '..')))"
   ]
  },
  {
   "cell_type": "code",
   "execution_count": 3,
   "id": "395cb526",
   "metadata": {
    "scrolled": true
   },
   "outputs": [],
   "source": [
    "from src.optim.loss import TrimmedMAELoss,SSITrimmedMAELoss, normalize_prediction_robust\n",
    "\n",
    "import torch"
   ]
  },
  {
   "cell_type": "code",
   "execution_count": 4,
   "id": "54cc9c8c",
   "metadata": {},
   "outputs": [],
   "source": [
    "loss = TrimmedMAELoss()"
   ]
  },
  {
   "cell_type": "code",
   "execution_count": 9,
   "id": "e24443d7",
   "metadata": {
    "scrolled": true
   },
   "outputs": [],
   "source": [
    "prediction = torch.randn((3, 4, 5))"
   ]
  },
  {
   "cell_type": "code",
   "execution_count": 13,
   "id": "c3fdcd99",
   "metadata": {},
   "outputs": [],
   "source": [
    "target = torch.randn((3, 4, 5))"
   ]
  },
  {
   "cell_type": "code",
   "execution_count": 14,
   "id": "dd570f3e",
   "metadata": {},
   "outputs": [],
   "source": [
    "loss = SSITrimmedMAELoss()"
   ]
  },
  {
   "cell_type": "code",
   "execution_count": 15,
   "id": "9978cd9b",
   "metadata": {},
   "outputs": [
    {
     "data": {
      "text/plain": [
       "tensor(0.4847)"
      ]
     },
     "execution_count": 15,
     "metadata": {},
     "output_type": "execute_result"
    }
   ],
   "source": [
    "loss(prediction, target)"
   ]
  },
  {
   "cell_type": "code",
   "execution_count": 16,
   "id": "bb544f41",
   "metadata": {},
   "outputs": [],
   "source": [
    "from torch.utils.data import random_split"
   ]
  },
  {
   "cell_type": "code",
   "execution_count": 19,
   "id": "a99716aa",
   "metadata": {},
   "outputs": [],
   "source": [
    "from src.datasets import HRWSI"
   ]
  },
  {
   "cell_type": "code",
   "execution_count": 21,
   "id": "7c454747",
   "metadata": {},
   "outputs": [
    {
     "name": "stdout",
     "output_type": "stream",
     "text": [
      "env: MIX6_DATASETS=/runai-ivrl-scratch/students/2021-fall-sp-jellouli/mix6\n"
     ]
    }
   ],
   "source": [
    "%env MIX6_DATASETS=/runai-ivrl-scratch/students/2021-fall-sp-jellouli/mix6"
   ]
  },
  {
   "cell_type": "code",
   "execution_count": 22,
   "id": "54177ee6",
   "metadata": {
    "scrolled": true
   },
   "outputs": [],
   "source": [
    "dataset = HRWSI()"
   ]
  },
  {
   "cell_type": "code",
   "execution_count": 23,
   "id": "2e88cc79",
   "metadata": {},
   "outputs": [
    {
     "data": {
      "text/plain": [
       "20378"
      ]
     },
     "execution_count": 23,
     "metadata": {},
     "output_type": "execute_result"
    }
   ],
   "source": [
    "len(dataset)"
   ]
  },
  {
   "cell_type": "code",
   "execution_count": 24,
   "id": "850a7c97",
   "metadata": {},
   "outputs": [
    {
     "data": {
      "text/plain": [
       "[<torch.utils.data.dataset.Subset at 0x7f0bf7421c10>,\n",
       " <torch.utils.data.dataset.Subset at 0x7f0bf7421c70>]"
      ]
     },
     "execution_count": 24,
     "metadata": {},
     "output_type": "execute_result"
    }
   ],
   "source": [
    "random_split(dataset, [20000, 378])"
   ]
  },
  {
   "cell_type": "code",
   "execution_count": null,
   "id": "3b637820",
   "metadata": {},
   "outputs": [],
   "source": []
  }
 ],
 "metadata": {
  "kernelspec": {
   "display_name": "Python 3 (ipykernel)",
   "language": "python",
   "name": "python3"
  },
  "language_info": {
   "codemirror_mode": {
    "name": "ipython",
    "version": 3
   },
   "file_extension": ".py",
   "mimetype": "text/x-python",
   "name": "python",
   "nbconvert_exporter": "python",
   "pygments_lexer": "ipython3",
   "version": "3.9.7"
  }
 },
 "nbformat": 4,
 "nbformat_minor": 5
}
