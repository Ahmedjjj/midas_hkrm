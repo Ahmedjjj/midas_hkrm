{
 "cells": [
  {
   "cell_type": "code",
   "execution_count": 1,
   "id": "c814dd04",
   "metadata": {},
   "outputs": [],
   "source": [
    "%load_ext autoreload\n",
    "%autoreload 2 "
   ]
  },
  {
   "cell_type": "code",
   "execution_count": 2,
   "id": "73785462",
   "metadata": {},
   "outputs": [],
   "source": [
    "import os\n",
    "import sys"
   ]
  },
  {
   "cell_type": "code",
   "execution_count": 3,
   "id": "62ba86c5",
   "metadata": {
    "scrolled": true
   },
   "outputs": [],
   "source": [
    "sys.path.append(os.path.normpath(os.path.join(os.getcwd(), '..')))"
   ]
  },
  {
   "cell_type": "code",
   "execution_count": 4,
   "id": "f7b6dea6",
   "metadata": {
    "scrolled": true
   },
   "outputs": [
    {
     "name": "stdout",
     "output_type": "stream",
     "text": [
      "env: DETECTRON2_DATASETS=/runai-ivrl-scratch/students/2021-fall-sp-jellouli/semester-project/data/datasets\n"
     ]
    }
   ],
   "source": [
    "%env DETECTRON2_DATASETS=/runai-ivrl-scratch/students/2021-fall-sp-jellouli/semester-project/data/datasets"
   ]
  },
  {
   "cell_type": "code",
   "execution_count": 5,
   "id": "554bf333",
   "metadata": {
    "scrolled": true
   },
   "outputs": [
    {
     "name": "stdout",
     "output_type": "stream",
     "text": [
      "env: CUDA_VISIBLE_DEVICES=2\n"
     ]
    }
   ],
   "source": [
    "%env CUDA_VISIBLE_DEVICES=2"
   ]
  },
  {
   "cell_type": "code",
   "execution_count": 7,
   "id": "b91624d0",
   "metadata": {},
   "outputs": [],
   "source": [
    "from detectron2.evaluation import COCOEvaluator\n",
    "from detectron2.data import MetadataCatalog"
   ]
  },
  {
   "cell_type": "code",
   "execution_count": 22,
   "id": "c7a1183b",
   "metadata": {},
   "outputs": [],
   "source": [
    "import detectron2\n",
    "from detectron2.utils.logger import setup_logger\n",
    "setup_logger()\n",
    "from detectron2 import model_zoo\n",
    "from detectron2.engine import DefaultPredictor\n",
    "from detectron2.config import get_cfg\n",
    "from detectron2.utils.visualizer import Visualizer\n",
    "from detectron2.data import MetadataCatalog, DatasetCatalog, build_detection_test_loader, DatasetMapper\n",
    "from detectron2.evaluation import inference_on_dataset"
   ]
  },
  {
   "cell_type": "code",
   "execution_count": 12,
   "id": "5c7b325d",
   "metadata": {},
   "outputs": [],
   "source": [
    "evaluator = COCOEvaluator('coco_2017_val')"
   ]
  },
  {
   "cell_type": "code",
   "execution_count": 26,
   "id": "8e47b20f",
   "metadata": {},
   "outputs": [
    {
     "name": "stderr",
     "output_type": "stream",
     "text": [
      "model_final_a3ec72.pkl: 254MB [00:25, 10.1MB/s]                                                                              \n"
     ]
    }
   ],
   "source": [
    "cfg = get_cfg()\n",
    "cfg.merge_from_file(model_zoo.get_config_file(\"COCO-InstanceSegmentation/mask_rcnn_R_101_FPN_3x.yaml\"))\n",
    "cfg.MODEL.ROI_HEADS.SCORE_THRESH_TEST = 0.5  \n",
    "cfg.MODEL.WEIGHTS = model_zoo.get_checkpoint_url(\"COCO-InstanceSegmentation/mask_rcnn_R_101_FPN_3x.yaml\")\n",
    "predictor = DefaultPredictor(cfg)"
   ]
  },
  {
   "cell_type": "code",
   "execution_count": 14,
   "id": "d6ee851f",
   "metadata": {},
   "outputs": [
    {
     "name": "stdout",
     "output_type": "stream",
     "text": [
      "\u001b[32m[11/25 14:39:33 d2.data.datasets.coco]: \u001b[0mLoaded 5000 images in COCO format from /runai-ivrl-scratch/students/2021-fall-sp-jellouli/semester-project/data/datasets/coco/annotations/instances_val2017.json\n"
     ]
    }
   ],
   "source": [
    "data = DatasetCatalog['coco_2017_val']()"
   ]
  },
  {
   "cell_type": "code",
   "execution_count": 20,
   "id": "4e928300",
   "metadata": {
    "scrolled": true
   },
   "outputs": [
    {
     "name": "stdout",
     "output_type": "stream",
     "text": [
      "\u001b[32m[11/25 14:44:52 d2.data.dataset_mapper]: \u001b[0m[DatasetMapper] Augmentations used in inference: [ResizeShortestEdge(short_edge_length=(800, 800), max_size=1333, sample_style='choice')]\n",
      "\u001b[32m[11/25 14:44:52 d2.data.common]: \u001b[0mSerializing 5000 elements to byte tensors and concatenating them all ...\n",
      "\u001b[32m[11/25 14:44:52 d2.data.common]: \u001b[0mSerialized dataset takes 19.45 MiB\n"
     ]
    }
   ],
   "source": [
    "dataset = build_detection_test_loader(dataset=data, mapper= DatasetMapper(cfg, is_train=False))"
   ]
  },
  {
   "cell_type": "code",
   "execution_count": 27,
   "id": "cdc6ea06",
   "metadata": {
    "scrolled": true
   },
   "outputs": [
    {
     "name": "stdout",
     "output_type": "stream",
     "text": [
      "\u001b[32m[11/25 15:10:51 d2.evaluation.evaluator]: \u001b[0mStart inference on 5000 batches\n",
      "\u001b[32m[11/25 15:10:52 d2.evaluation.evaluator]: \u001b[0mInference done 11/5000. Dataloading: 0.0237 s/iter. Inference: 0.0851 s/iter. Eval: 0.0044 s/iter. Total: 0.1133 s/iter. ETA=0:09:25\n",
      "\u001b[32m[11/25 15:10:57 d2.evaluation.evaluator]: \u001b[0mInference done 54/5000. Dataloading: 0.0288 s/iter. Inference: 0.0844 s/iter. Eval: 0.0041 s/iter. Total: 0.1173 s/iter. ETA=0:09:40\n",
      "\u001b[32m[11/25 15:11:02 d2.evaluation.evaluator]: \u001b[0mInference done 97/5000. Dataloading: 0.0297 s/iter. Inference: 0.0841 s/iter. Eval: 0.0041 s/iter. Total: 0.1179 s/iter. ETA=0:09:37\n",
      "\u001b[32m[11/25 15:11:07 d2.evaluation.evaluator]: \u001b[0mInference done 140/5000. Dataloading: 0.0298 s/iter. Inference: 0.0840 s/iter. Eval: 0.0043 s/iter. Total: 0.1182 s/iter. ETA=0:09:34\n",
      "\u001b[32m[11/25 15:11:12 d2.evaluation.evaluator]: \u001b[0mInference done 182/5000. Dataloading: 0.0300 s/iter. Inference: 0.0841 s/iter. Eval: 0.0043 s/iter. Total: 0.1186 s/iter. ETA=0:09:31\n",
      "\u001b[32m[11/25 15:11:17 d2.evaluation.evaluator]: \u001b[0mInference done 225/5000. Dataloading: 0.0300 s/iter. Inference: 0.0841 s/iter. Eval: 0.0041 s/iter. Total: 0.1182 s/iter. ETA=0:09:24\n",
      "\u001b[32m[11/25 15:11:22 d2.evaluation.evaluator]: \u001b[0mInference done 267/5000. Dataloading: 0.0299 s/iter. Inference: 0.0843 s/iter. Eval: 0.0041 s/iter. Total: 0.1184 s/iter. ETA=0:09:20\n",
      "\u001b[32m[11/25 15:11:28 d2.evaluation.evaluator]: \u001b[0mInference done 309/5000. Dataloading: 0.0300 s/iter. Inference: 0.0843 s/iter. Eval: 0.0042 s/iter. Total: 0.1185 s/iter. ETA=0:09:16\n",
      "\u001b[32m[11/25 15:11:33 d2.evaluation.evaluator]: \u001b[0mInference done 352/5000. Dataloading: 0.0297 s/iter. Inference: 0.0845 s/iter. Eval: 0.0042 s/iter. Total: 0.1184 s/iter. ETA=0:09:10\n",
      "\u001b[32m[11/25 15:11:38 d2.evaluation.evaluator]: \u001b[0mInference done 396/5000. Dataloading: 0.0297 s/iter. Inference: 0.0843 s/iter. Eval: 0.0041 s/iter. Total: 0.1181 s/iter. ETA=0:09:03\n",
      "\u001b[32m[11/25 15:11:43 d2.evaluation.evaluator]: \u001b[0mInference done 439/5000. Dataloading: 0.0297 s/iter. Inference: 0.0843 s/iter. Eval: 0.0040 s/iter. Total: 0.1181 s/iter. ETA=0:08:58\n",
      "\u001b[32m[11/25 15:11:48 d2.evaluation.evaluator]: \u001b[0mInference done 481/5000. Dataloading: 0.0297 s/iter. Inference: 0.0844 s/iter. Eval: 0.0040 s/iter. Total: 0.1182 s/iter. ETA=0:08:54\n",
      "\u001b[32m[11/25 15:11:53 d2.evaluation.evaluator]: \u001b[0mInference done 524/5000. Dataloading: 0.0297 s/iter. Inference: 0.0843 s/iter. Eval: 0.0041 s/iter. Total: 0.1181 s/iter. ETA=0:08:48\n",
      "\u001b[32m[11/25 15:11:58 d2.evaluation.evaluator]: \u001b[0mInference done 567/5000. Dataloading: 0.0297 s/iter. Inference: 0.0843 s/iter. Eval: 0.0041 s/iter. Total: 0.1182 s/iter. ETA=0:08:44\n",
      "\u001b[32m[11/25 15:12:03 d2.evaluation.evaluator]: \u001b[0mInference done 610/5000. Dataloading: 0.0297 s/iter. Inference: 0.0843 s/iter. Eval: 0.0041 s/iter. Total: 0.1182 s/iter. ETA=0:08:38\n",
      "\u001b[32m[11/25 15:12:08 d2.evaluation.evaluator]: \u001b[0mInference done 653/5000. Dataloading: 0.0297 s/iter. Inference: 0.0843 s/iter. Eval: 0.0041 s/iter. Total: 0.1183 s/iter. ETA=0:08:34\n",
      "\u001b[32m[11/25 15:12:13 d2.evaluation.evaluator]: \u001b[0mInference done 695/5000. Dataloading: 0.0297 s/iter. Inference: 0.0844 s/iter. Eval: 0.0041 s/iter. Total: 0.1183 s/iter. ETA=0:08:29\n",
      "\u001b[32m[11/25 15:12:18 d2.evaluation.evaluator]: \u001b[0mInference done 736/5000. Dataloading: 0.0298 s/iter. Inference: 0.0845 s/iter. Eval: 0.0042 s/iter. Total: 0.1186 s/iter. ETA=0:08:25\n",
      "\u001b[32m[11/25 15:12:23 d2.evaluation.evaluator]: \u001b[0mInference done 779/5000. Dataloading: 0.0298 s/iter. Inference: 0.0845 s/iter. Eval: 0.0041 s/iter. Total: 0.1185 s/iter. ETA=0:08:20\n",
      "\u001b[32m[11/25 15:12:28 d2.evaluation.evaluator]: \u001b[0mInference done 821/5000. Dataloading: 0.0299 s/iter. Inference: 0.0846 s/iter. Eval: 0.0041 s/iter. Total: 0.1187 s/iter. ETA=0:08:15\n",
      "\u001b[32m[11/25 15:12:33 d2.evaluation.evaluator]: \u001b[0mInference done 863/5000. Dataloading: 0.0299 s/iter. Inference: 0.0846 s/iter. Eval: 0.0041 s/iter. Total: 0.1188 s/iter. ETA=0:08:11\n",
      "\u001b[32m[11/25 15:12:38 d2.evaluation.evaluator]: \u001b[0mInference done 906/5000. Dataloading: 0.0300 s/iter. Inference: 0.0846 s/iter. Eval: 0.0041 s/iter. Total: 0.1187 s/iter. ETA=0:08:06\n",
      "\u001b[32m[11/25 15:12:43 d2.evaluation.evaluator]: \u001b[0mInference done 949/5000. Dataloading: 0.0299 s/iter. Inference: 0.0846 s/iter. Eval: 0.0040 s/iter. Total: 0.1187 s/iter. ETA=0:08:00\n",
      "\u001b[32m[11/25 15:12:49 d2.evaluation.evaluator]: \u001b[0mInference done 991/5000. Dataloading: 0.0299 s/iter. Inference: 0.0846 s/iter. Eval: 0.0041 s/iter. Total: 0.1187 s/iter. ETA=0:07:55\n",
      "\u001b[32m[11/25 15:12:54 d2.evaluation.evaluator]: \u001b[0mInference done 1034/5000. Dataloading: 0.0300 s/iter. Inference: 0.0846 s/iter. Eval: 0.0041 s/iter. Total: 0.1187 s/iter. ETA=0:07:50\n",
      "\u001b[32m[11/25 15:12:59 d2.evaluation.evaluator]: \u001b[0mInference done 1076/5000. Dataloading: 0.0300 s/iter. Inference: 0.0847 s/iter. Eval: 0.0041 s/iter. Total: 0.1188 s/iter. ETA=0:07:46\n",
      "\u001b[32m[11/25 15:13:04 d2.evaluation.evaluator]: \u001b[0mInference done 1118/5000. Dataloading: 0.0300 s/iter. Inference: 0.0847 s/iter. Eval: 0.0041 s/iter. Total: 0.1188 s/iter. ETA=0:07:41\n",
      "\u001b[32m[11/25 15:13:09 d2.evaluation.evaluator]: \u001b[0mInference done 1159/5000. Dataloading: 0.0300 s/iter. Inference: 0.0848 s/iter. Eval: 0.0041 s/iter. Total: 0.1190 s/iter. ETA=0:07:36\n",
      "\u001b[32m[11/25 15:13:14 d2.evaluation.evaluator]: \u001b[0mInference done 1200/5000. Dataloading: 0.0301 s/iter. Inference: 0.0848 s/iter. Eval: 0.0041 s/iter. Total: 0.1191 s/iter. ETA=0:07:32\n",
      "\u001b[32m[11/25 15:13:19 d2.evaluation.evaluator]: \u001b[0mInference done 1242/5000. Dataloading: 0.0301 s/iter. Inference: 0.0848 s/iter. Eval: 0.0042 s/iter. Total: 0.1191 s/iter. ETA=0:07:27\n",
      "\u001b[32m[11/25 15:13:24 d2.evaluation.evaluator]: \u001b[0mInference done 1284/5000. Dataloading: 0.0301 s/iter. Inference: 0.0848 s/iter. Eval: 0.0042 s/iter. Total: 0.1192 s/iter. ETA=0:07:22\n",
      "\u001b[32m[11/25 15:13:29 d2.evaluation.evaluator]: \u001b[0mInference done 1328/5000. Dataloading: 0.0301 s/iter. Inference: 0.0848 s/iter. Eval: 0.0042 s/iter. Total: 0.1191 s/iter. ETA=0:07:17\n",
      "\u001b[32m[11/25 15:13:34 d2.evaluation.evaluator]: \u001b[0mInference done 1370/5000. Dataloading: 0.0301 s/iter. Inference: 0.0848 s/iter. Eval: 0.0042 s/iter. Total: 0.1191 s/iter. ETA=0:07:12\n",
      "\u001b[32m[11/25 15:13:39 d2.evaluation.evaluator]: \u001b[0mInference done 1413/5000. Dataloading: 0.0301 s/iter. Inference: 0.0847 s/iter. Eval: 0.0042 s/iter. Total: 0.1190 s/iter. ETA=0:07:07\n",
      "\u001b[32m[11/25 15:13:44 d2.evaluation.evaluator]: \u001b[0mInference done 1456/5000. Dataloading: 0.0301 s/iter. Inference: 0.0847 s/iter. Eval: 0.0042 s/iter. Total: 0.1190 s/iter. ETA=0:07:01\n",
      "\u001b[32m[11/25 15:13:49 d2.evaluation.evaluator]: \u001b[0mInference done 1498/5000. Dataloading: 0.0301 s/iter. Inference: 0.0847 s/iter. Eval: 0.0042 s/iter. Total: 0.1190 s/iter. ETA=0:06:56\n",
      "\u001b[32m[11/25 15:13:54 d2.evaluation.evaluator]: \u001b[0mInference done 1541/5000. Dataloading: 0.0301 s/iter. Inference: 0.0846 s/iter. Eval: 0.0042 s/iter. Total: 0.1190 s/iter. ETA=0:06:51\n",
      "\u001b[32m[11/25 15:13:59 d2.evaluation.evaluator]: \u001b[0mInference done 1583/5000. Dataloading: 0.0301 s/iter. Inference: 0.0847 s/iter. Eval: 0.0042 s/iter. Total: 0.1191 s/iter. ETA=0:06:46\n",
      "\u001b[32m[11/25 15:14:04 d2.evaluation.evaluator]: \u001b[0mInference done 1625/5000. Dataloading: 0.0301 s/iter. Inference: 0.0847 s/iter. Eval: 0.0042 s/iter. Total: 0.1191 s/iter. ETA=0:06:42\n",
      "\u001b[32m[11/25 15:14:09 d2.evaluation.evaluator]: \u001b[0mInference done 1667/5000. Dataloading: 0.0301 s/iter. Inference: 0.0847 s/iter. Eval: 0.0042 s/iter. Total: 0.1192 s/iter. ETA=0:06:37\n",
      "\u001b[32m[11/25 15:14:15 d2.evaluation.evaluator]: \u001b[0mInference done 1709/5000. Dataloading: 0.0301 s/iter. Inference: 0.0847 s/iter. Eval: 0.0042 s/iter. Total: 0.1192 s/iter. ETA=0:06:32\n",
      "\u001b[32m[11/25 15:14:20 d2.evaluation.evaluator]: \u001b[0mInference done 1751/5000. Dataloading: 0.0301 s/iter. Inference: 0.0848 s/iter. Eval: 0.0042 s/iter. Total: 0.1192 s/iter. ETA=0:06:27\n",
      "\u001b[32m[11/25 15:14:25 d2.evaluation.evaluator]: \u001b[0mInference done 1794/5000. Dataloading: 0.0301 s/iter. Inference: 0.0847 s/iter. Eval: 0.0042 s/iter. Total: 0.1191 s/iter. ETA=0:06:21\n",
      "\u001b[32m[11/25 15:14:30 d2.evaluation.evaluator]: \u001b[0mInference done 1836/5000. Dataloading: 0.0301 s/iter. Inference: 0.0847 s/iter. Eval: 0.0042 s/iter. Total: 0.1191 s/iter. ETA=0:06:16\n"
     ]
    },
    {
     "name": "stdout",
     "output_type": "stream",
     "text": [
      "\u001b[32m[11/25 15:14:35 d2.evaluation.evaluator]: \u001b[0mInference done 1878/5000. Dataloading: 0.0301 s/iter. Inference: 0.0847 s/iter. Eval: 0.0042 s/iter. Total: 0.1192 s/iter. ETA=0:06:11\n",
      "\u001b[32m[11/25 15:16:16 d2.evaluation.evaluator]: \u001b[0mInference done 2776/5000. Dataloading: 0.0284 s/iter. Inference: 0.0845 s/iter. Eval: 0.0040 s/iter. Total: 0.1170 s/iter. ETA=0:04:20\n",
      "\u001b[32m[11/25 15:16:21 d2.evaluation.evaluator]: \u001b[0mInference done 2821/5000. Dataloading: 0.0283 s/iter. Inference: 0.0845 s/iter. Eval: 0.0040 s/iter. Total: 0.1169 s/iter. ETA=0:04:14\n",
      "\u001b[32m[11/25 15:16:26 d2.evaluation.evaluator]: \u001b[0mInference done 2866/5000. Dataloading: 0.0283 s/iter. Inference: 0.0845 s/iter. Eval: 0.0040 s/iter. Total: 0.1168 s/iter. ETA=0:04:09\n",
      "\u001b[32m[11/25 15:16:31 d2.evaluation.evaluator]: \u001b[0mInference done 2910/5000. Dataloading: 0.0282 s/iter. Inference: 0.0845 s/iter. Eval: 0.0040 s/iter. Total: 0.1168 s/iter. ETA=0:04:04\n",
      "\u001b[32m[11/25 15:16:36 d2.evaluation.evaluator]: \u001b[0mInference done 2956/5000. Dataloading: 0.0282 s/iter. Inference: 0.0845 s/iter. Eval: 0.0040 s/iter. Total: 0.1167 s/iter. ETA=0:03:58\n",
      "\u001b[32m[11/25 15:16:41 d2.evaluation.evaluator]: \u001b[0mInference done 3002/5000. Dataloading: 0.0281 s/iter. Inference: 0.0845 s/iter. Eval: 0.0040 s/iter. Total: 0.1166 s/iter. ETA=0:03:52\n",
      "\u001b[32m[11/25 15:16:46 d2.evaluation.evaluator]: \u001b[0mInference done 3046/5000. Dataloading: 0.0281 s/iter. Inference: 0.0845 s/iter. Eval: 0.0040 s/iter. Total: 0.1166 s/iter. ETA=0:03:47\n",
      "\u001b[32m[11/25 15:16:51 d2.evaluation.evaluator]: \u001b[0mInference done 3088/5000. Dataloading: 0.0281 s/iter. Inference: 0.0845 s/iter. Eval: 0.0040 s/iter. Total: 0.1166 s/iter. ETA=0:03:43\n",
      "\u001b[32m[11/25 15:16:56 d2.evaluation.evaluator]: \u001b[0mInference done 3132/5000. Dataloading: 0.0281 s/iter. Inference: 0.0845 s/iter. Eval: 0.0040 s/iter. Total: 0.1166 s/iter. ETA=0:03:37\n",
      "\u001b[32m[11/25 15:17:01 d2.evaluation.evaluator]: \u001b[0mInference done 3175/5000. Dataloading: 0.0281 s/iter. Inference: 0.0845 s/iter. Eval: 0.0040 s/iter. Total: 0.1167 s/iter. ETA=0:03:32\n",
      "\u001b[32m[11/25 15:17:06 d2.evaluation.evaluator]: \u001b[0mInference done 3218/5000. Dataloading: 0.0281 s/iter. Inference: 0.0845 s/iter. Eval: 0.0040 s/iter. Total: 0.1167 s/iter. ETA=0:03:27\n",
      "\u001b[32m[11/25 15:17:11 d2.evaluation.evaluator]: \u001b[0mInference done 3260/5000. Dataloading: 0.0282 s/iter. Inference: 0.0845 s/iter. Eval: 0.0040 s/iter. Total: 0.1167 s/iter. ETA=0:03:23\n",
      "\u001b[32m[11/25 15:17:17 d2.evaluation.evaluator]: \u001b[0mInference done 3303/5000. Dataloading: 0.0282 s/iter. Inference: 0.0845 s/iter. Eval: 0.0040 s/iter. Total: 0.1168 s/iter. ETA=0:03:18\n",
      "\u001b[32m[11/25 15:17:22 d2.evaluation.evaluator]: \u001b[0mInference done 3346/5000. Dataloading: 0.0282 s/iter. Inference: 0.0845 s/iter. Eval: 0.0040 s/iter. Total: 0.1168 s/iter. ETA=0:03:13\n",
      "\u001b[32m[11/25 15:17:27 d2.evaluation.evaluator]: \u001b[0mInference done 3387/5000. Dataloading: 0.0282 s/iter. Inference: 0.0845 s/iter. Eval: 0.0040 s/iter. Total: 0.1169 s/iter. ETA=0:03:08\n",
      "\u001b[32m[11/25 15:17:32 d2.evaluation.evaluator]: \u001b[0mInference done 3430/5000. Dataloading: 0.0283 s/iter. Inference: 0.0845 s/iter. Eval: 0.0040 s/iter. Total: 0.1169 s/iter. ETA=0:03:03\n",
      "\u001b[32m[11/25 15:17:37 d2.evaluation.evaluator]: \u001b[0mInference done 3472/5000. Dataloading: 0.0283 s/iter. Inference: 0.0846 s/iter. Eval: 0.0040 s/iter. Total: 0.1169 s/iter. ETA=0:02:58\n",
      "\u001b[32m[11/25 15:17:42 d2.evaluation.evaluator]: \u001b[0mInference done 3515/5000. Dataloading: 0.0283 s/iter. Inference: 0.0846 s/iter. Eval: 0.0040 s/iter. Total: 0.1169 s/iter. ETA=0:02:53\n",
      "\u001b[32m[11/25 15:17:47 d2.evaluation.evaluator]: \u001b[0mInference done 3558/5000. Dataloading: 0.0283 s/iter. Inference: 0.0845 s/iter. Eval: 0.0040 s/iter. Total: 0.1169 s/iter. ETA=0:02:48\n",
      "\u001b[32m[11/25 15:17:52 d2.evaluation.evaluator]: \u001b[0mInference done 3601/5000. Dataloading: 0.0283 s/iter. Inference: 0.0846 s/iter. Eval: 0.0040 s/iter. Total: 0.1170 s/iter. ETA=0:02:43\n",
      "\u001b[32m[11/25 15:17:57 d2.evaluation.evaluator]: \u001b[0mInference done 3644/5000. Dataloading: 0.0283 s/iter. Inference: 0.0846 s/iter. Eval: 0.0040 s/iter. Total: 0.1170 s/iter. ETA=0:02:38\n",
      "\u001b[32m[11/25 15:18:02 d2.evaluation.evaluator]: \u001b[0mInference done 3688/5000. Dataloading: 0.0283 s/iter. Inference: 0.0845 s/iter. Eval: 0.0040 s/iter. Total: 0.1169 s/iter. ETA=0:02:33\n",
      "\u001b[32m[11/25 15:18:07 d2.evaluation.evaluator]: \u001b[0mInference done 3730/5000. Dataloading: 0.0284 s/iter. Inference: 0.0846 s/iter. Eval: 0.0040 s/iter. Total: 0.1170 s/iter. ETA=0:02:28\n",
      "\u001b[32m[11/25 15:18:12 d2.evaluation.evaluator]: \u001b[0mInference done 3772/5000. Dataloading: 0.0284 s/iter. Inference: 0.0846 s/iter. Eval: 0.0040 s/iter. Total: 0.1170 s/iter. ETA=0:02:23\n",
      "\u001b[32m[11/25 15:18:17 d2.evaluation.evaluator]: \u001b[0mInference done 3813/5000. Dataloading: 0.0284 s/iter. Inference: 0.0846 s/iter. Eval: 0.0040 s/iter. Total: 0.1171 s/iter. ETA=0:02:18\n",
      "\u001b[32m[11/25 15:18:22 d2.evaluation.evaluator]: \u001b[0mInference done 3855/5000. Dataloading: 0.0285 s/iter. Inference: 0.0846 s/iter. Eval: 0.0040 s/iter. Total: 0.1171 s/iter. ETA=0:02:14\n",
      "\u001b[32m[11/25 15:18:28 d2.evaluation.evaluator]: \u001b[0mInference done 3898/5000. Dataloading: 0.0285 s/iter. Inference: 0.0846 s/iter. Eval: 0.0040 s/iter. Total: 0.1172 s/iter. ETA=0:02:09\n",
      "\u001b[32m[11/25 15:18:33 d2.evaluation.evaluator]: \u001b[0mInference done 3941/5000. Dataloading: 0.0285 s/iter. Inference: 0.0846 s/iter. Eval: 0.0040 s/iter. Total: 0.1172 s/iter. ETA=0:02:04\n",
      "\u001b[32m[11/25 15:18:38 d2.evaluation.evaluator]: \u001b[0mInference done 3983/5000. Dataloading: 0.0285 s/iter. Inference: 0.0846 s/iter. Eval: 0.0040 s/iter. Total: 0.1172 s/iter. ETA=0:01:59\n",
      "\u001b[32m[11/25 15:18:43 d2.evaluation.evaluator]: \u001b[0mInference done 4025/5000. Dataloading: 0.0286 s/iter. Inference: 0.0846 s/iter. Eval: 0.0040 s/iter. Total: 0.1172 s/iter. ETA=0:01:54\n",
      "\u001b[32m[11/25 15:18:48 d2.evaluation.evaluator]: \u001b[0mInference done 4067/5000. Dataloading: 0.0286 s/iter. Inference: 0.0846 s/iter. Eval: 0.0040 s/iter. Total: 0.1173 s/iter. ETA=0:01:49\n",
      "\u001b[32m[11/25 15:18:53 d2.evaluation.evaluator]: \u001b[0mInference done 4108/5000. Dataloading: 0.0286 s/iter. Inference: 0.0846 s/iter. Eval: 0.0040 s/iter. Total: 0.1173 s/iter. ETA=0:01:44\n",
      "\u001b[32m[11/25 15:18:58 d2.evaluation.evaluator]: \u001b[0mInference done 4150/5000. Dataloading: 0.0286 s/iter. Inference: 0.0846 s/iter. Eval: 0.0040 s/iter. Total: 0.1174 s/iter. ETA=0:01:39\n",
      "\u001b[32m[11/25 15:19:03 d2.evaluation.evaluator]: \u001b[0mInference done 4192/5000. Dataloading: 0.0287 s/iter. Inference: 0.0846 s/iter. Eval: 0.0040 s/iter. Total: 0.1174 s/iter. ETA=0:01:34\n",
      "\u001b[32m[11/25 15:19:08 d2.evaluation.evaluator]: \u001b[0mInference done 4236/5000. Dataloading: 0.0287 s/iter. Inference: 0.0846 s/iter. Eval: 0.0040 s/iter. Total: 0.1174 s/iter. ETA=0:01:29\n",
      "\u001b[32m[11/25 15:19:13 d2.evaluation.evaluator]: \u001b[0mInference done 4280/5000. Dataloading: 0.0287 s/iter. Inference: 0.0846 s/iter. Eval: 0.0040 s/iter. Total: 0.1174 s/iter. ETA=0:01:24\n",
      "\u001b[32m[11/25 15:19:18 d2.evaluation.evaluator]: \u001b[0mInference done 4323/5000. Dataloading: 0.0287 s/iter. Inference: 0.0846 s/iter. Eval: 0.0040 s/iter. Total: 0.1174 s/iter. ETA=0:01:19\n",
      "\u001b[32m[11/25 15:19:23 d2.evaluation.evaluator]: \u001b[0mInference done 4367/5000. Dataloading: 0.0287 s/iter. Inference: 0.0846 s/iter. Eval: 0.0040 s/iter. Total: 0.1174 s/iter. ETA=0:01:14\n",
      "\u001b[32m[11/25 15:19:28 d2.evaluation.evaluator]: \u001b[0mInference done 4410/5000. Dataloading: 0.0287 s/iter. Inference: 0.0846 s/iter. Eval: 0.0040 s/iter. Total: 0.1174 s/iter. ETA=0:01:09\n",
      "\u001b[32m[11/25 15:19:34 d2.evaluation.evaluator]: \u001b[0mInference done 4453/5000. Dataloading: 0.0287 s/iter. Inference: 0.0846 s/iter. Eval: 0.0040 s/iter. Total: 0.1174 s/iter. ETA=0:01:04\n",
      "\u001b[32m[11/25 15:19:39 d2.evaluation.evaluator]: \u001b[0mInference done 4496/5000. Dataloading: 0.0287 s/iter. Inference: 0.0846 s/iter. Eval: 0.0040 s/iter. Total: 0.1174 s/iter. ETA=0:00:59\n",
      "\u001b[32m[11/25 15:19:44 d2.evaluation.evaluator]: \u001b[0mInference done 4539/5000. Dataloading: 0.0287 s/iter. Inference: 0.0846 s/iter. Eval: 0.0040 s/iter. Total: 0.1174 s/iter. ETA=0:00:54\n",
      "\u001b[32m[11/25 15:19:49 d2.evaluation.evaluator]: \u001b[0mInference done 4582/5000. Dataloading: 0.0287 s/iter. Inference: 0.0846 s/iter. Eval: 0.0040 s/iter. Total: 0.1174 s/iter. ETA=0:00:49\n",
      "\u001b[32m[11/25 15:19:54 d2.evaluation.evaluator]: \u001b[0mInference done 4625/5000. Dataloading: 0.0287 s/iter. Inference: 0.0846 s/iter. Eval: 0.0040 s/iter. Total: 0.1174 s/iter. ETA=0:00:44\n"
     ]
    },
    {
     "name": "stdout",
     "output_type": "stream",
     "text": [
      "\u001b[32m[11/25 15:19:59 d2.evaluation.evaluator]: \u001b[0mInference done 4668/5000. Dataloading: 0.0287 s/iter. Inference: 0.0846 s/iter. Eval: 0.0040 s/iter. Total: 0.1174 s/iter. ETA=0:00:38\n",
      "\u001b[32m[11/25 15:20:04 d2.evaluation.evaluator]: \u001b[0mInference done 4710/5000. Dataloading: 0.0288 s/iter. Inference: 0.0846 s/iter. Eval: 0.0040 s/iter. Total: 0.1174 s/iter. ETA=0:00:34\n",
      "\u001b[32m[11/25 15:20:09 d2.evaluation.evaluator]: \u001b[0mInference done 4752/5000. Dataloading: 0.0288 s/iter. Inference: 0.0846 s/iter. Eval: 0.0040 s/iter. Total: 0.1175 s/iter. ETA=0:00:29\n",
      "\u001b[32m[11/25 15:20:15 d2.evaluation.evaluator]: \u001b[0mInference done 4795/5000. Dataloading: 0.0289 s/iter. Inference: 0.0846 s/iter. Eval: 0.0040 s/iter. Total: 0.1176 s/iter. ETA=0:00:24\n",
      "\u001b[32m[11/25 15:20:20 d2.evaluation.evaluator]: \u001b[0mInference done 4838/5000. Dataloading: 0.0289 s/iter. Inference: 0.0846 s/iter. Eval: 0.0040 s/iter. Total: 0.1176 s/iter. ETA=0:00:19\n",
      "\u001b[32m[11/25 15:20:25 d2.evaluation.evaluator]: \u001b[0mInference done 4880/5000. Dataloading: 0.0289 s/iter. Inference: 0.0846 s/iter. Eval: 0.0040 s/iter. Total: 0.1176 s/iter. ETA=0:00:14\n",
      "\u001b[32m[11/25 15:20:30 d2.evaluation.evaluator]: \u001b[0mInference done 4922/5000. Dataloading: 0.0289 s/iter. Inference: 0.0847 s/iter. Eval: 0.0040 s/iter. Total: 0.1176 s/iter. ETA=0:00:09\n",
      "\u001b[32m[11/25 15:20:35 d2.evaluation.evaluator]: \u001b[0mInference done 4965/5000. Dataloading: 0.0289 s/iter. Inference: 0.0847 s/iter. Eval: 0.0040 s/iter. Total: 0.1176 s/iter. ETA=0:00:04\n",
      "\u001b[32m[11/25 15:20:39 d2.evaluation.evaluator]: \u001b[0mTotal inference time: 0:09:47.566042 (0.117631 s / iter per device, on 1 devices)\n",
      "\u001b[32m[11/25 15:20:39 d2.evaluation.evaluator]: \u001b[0mTotal inference pure compute time: 0:07:02 (0.084662 s / iter per device, on 1 devices)\n",
      "\u001b[32m[11/25 15:20:39 d2.evaluation.coco_evaluation]: \u001b[0mPreparing results for COCO format ...\n",
      "\u001b[32m[11/25 15:20:39 d2.evaluation.coco_evaluation]: \u001b[0mEvaluating predictions with unofficial COCO API...\n",
      "Loading and preparing results...\n",
      "DONE (t=0.06s)\n",
      "creating index...\n",
      "index created!\n",
      "\u001b[32m[11/25 15:20:39 d2.evaluation.fast_eval_api]: \u001b[0mEvaluate annotation type *bbox*\n",
      "\u001b[32m[11/25 15:20:46 d2.evaluation.fast_eval_api]: \u001b[0mCOCOeval_opt.evaluate() finished in 7.33 seconds.\n",
      "\u001b[32m[11/25 15:20:47 d2.evaluation.fast_eval_api]: \u001b[0mAccumulating evaluation results...\n",
      "\u001b[32m[11/25 15:20:47 d2.evaluation.fast_eval_api]: \u001b[0mCOCOeval_opt.accumulate() finished in 0.83 seconds.\n",
      " Average Precision  (AP) @[ IoU=0.50:0.95 | area=   all | maxDets=100 ] = 0.391\n",
      " Average Precision  (AP) @[ IoU=0.50      | area=   all | maxDets=100 ] = 0.560\n",
      " Average Precision  (AP) @[ IoU=0.75      | area=   all | maxDets=100 ] = 0.434\n",
      " Average Precision  (AP) @[ IoU=0.50:0.95 | area= small | maxDets=100 ] = 0.208\n",
      " Average Precision  (AP) @[ IoU=0.50:0.95 | area=medium | maxDets=100 ] = 0.430\n",
      " Average Precision  (AP) @[ IoU=0.50:0.95 | area= large | maxDets=100 ] = 0.530\n",
      " Average Recall     (AR) @[ IoU=0.50:0.95 | area=   all | maxDets=  1 ] = 0.312\n",
      " Average Recall     (AR) @[ IoU=0.50:0.95 | area=   all | maxDets= 10 ] = 0.452\n",
      " Average Recall     (AR) @[ IoU=0.50:0.95 | area=   all | maxDets=100 ] = 0.460\n",
      " Average Recall     (AR) @[ IoU=0.50:0.95 | area= small | maxDets=100 ] = 0.242\n",
      " Average Recall     (AR) @[ IoU=0.50:0.95 | area=medium | maxDets=100 ] = 0.499\n",
      " Average Recall     (AR) @[ IoU=0.50:0.95 | area= large | maxDets=100 ] = 0.622\n",
      "\u001b[32m[11/25 15:20:47 d2.evaluation.coco_evaluation]: \u001b[0mEvaluation results for bbox: \n",
      "|   AP   |  AP50  |  AP75  |  APs   |  APm   |  APl   |\n",
      "|:------:|:------:|:------:|:------:|:------:|:------:|\n",
      "| 39.125 | 56.038 | 43.353 | 20.778 | 43.028 | 53.031 |\n",
      "\u001b[32m[11/25 15:20:47 d2.evaluation.coco_evaluation]: \u001b[0mPer-category bbox AP: \n",
      "| category      | AP     | category     | AP     | category       | AP     |\n",
      "|:--------------|:-------|:-------------|:-------|:---------------|:-------|\n",
      "| person        | 53.047 | bicycle      | 30.348 | car            | 42.631 |\n",
      "| motorcycle    | 41.787 | airplane     | 61.123 | bus            | 63.584 |\n",
      "| train         | 59.564 | truck        | 30.546 | boat           | 26.493 |\n",
      "| traffic light | 25.882 | fire hydrant | 65.598 | stop sign      | 65.923 |\n",
      "| parking meter | 45.352 | bench        | 22.328 | bird           | 34.469 |\n",
      "| cat           | 66.584 | dog          | 59.480 | horse          | 56.548 |\n",
      "| sheep         | 51.461 | cow          | 51.033 | elephant       | 58.663 |\n",
      "| bear          | 69.457 | zebra        | 65.364 | giraffe        | 66.125 |\n",
      "| backpack      | 15.717 | umbrella     | 35.788 | handbag        | 13.510 |\n",
      "| tie           | 34.893 | suitcase     | 36.066 | frisbee        | 61.471 |\n",
      "| skis          | 23.877 | snowboard    | 31.168 | sports ball    | 46.554 |\n",
      "| kite          | 38.911 | baseball bat | 26.592 | baseball glove | 36.502 |\n",
      "| skateboard    | 53.729 | surfboard    | 36.566 | tennis racket  | 48.056 |\n",
      "| bottle        | 37.421 | wine glass   | 33.771 | cup            | 38.672 |\n",
      "| fork          | 32.625 | knife        | 17.269 | spoon          | 16.814 |\n",
      "| bowl          | 37.262 | banana       | 18.623 | apple          | 15.780 |\n",
      "| sandwich      | 31.538 | orange       | 27.221 | broccoli       | 20.242 |\n",
      "| carrot        | 19.960 | hot dog      | 30.492 | pizza          | 48.271 |\n",
      "| donut         | 39.992 | cake         | 33.547 | chair          | 24.866 |\n",
      "| couch         | 37.797 | potted plant | 25.138 | bed            | 38.006 |\n",
      "| dining table  | 25.383 | toilet       | 57.765 | tv             | 52.846 |\n",
      "| laptop        | 59.632 | mouse        | 59.649 | remote         | 30.497 |\n",
      "| keyboard      | 48.071 | cell phone   | 34.615 | microwave      | 50.463 |\n",
      "| oven          | 31.368 | toaster      | 22.252 | sink           | 34.194 |\n",
      "| refrigerator  | 52.725 | book         | 11.830 | clock          | 48.357 |\n",
      "| vase          | 36.429 | scissors     | 26.403 | teddy bear     | 43.450 |\n",
      "| hair drier    | 3.465  | toothbrush   | 22.512 |                |        |\n",
      "Loading and preparing results...\n",
      "DONE (t=0.58s)\n",
      "creating index...\n",
      "index created!\n",
      "\u001b[32m[11/25 15:20:49 d2.evaluation.fast_eval_api]: \u001b[0mEvaluate annotation type *segm*\n",
      "\u001b[32m[11/25 15:20:57 d2.evaluation.fast_eval_api]: \u001b[0mCOCOeval_opt.evaluate() finished in 8.16 seconds.\n",
      "\u001b[32m[11/25 15:20:57 d2.evaluation.fast_eval_api]: \u001b[0mAccumulating evaluation results...\n",
      "\u001b[32m[11/25 15:20:58 d2.evaluation.fast_eval_api]: \u001b[0mCOCOeval_opt.accumulate() finished in 0.87 seconds.\n",
      " Average Precision  (AP) @[ IoU=0.50:0.95 | area=   all | maxDets=100 ] = 0.356\n",
      " Average Precision  (AP) @[ IoU=0.50      | area=   all | maxDets=100 ] = 0.543\n",
      " Average Precision  (AP) @[ IoU=0.75      | area=   all | maxDets=100 ] = 0.387\n",
      " Average Precision  (AP) @[ IoU=0.50:0.95 | area= small | maxDets=100 ] = 0.163\n",
      " Average Precision  (AP) @[ IoU=0.50:0.95 | area=medium | maxDets=100 ] = 0.384\n",
      " Average Precision  (AP) @[ IoU=0.50:0.95 | area= large | maxDets=100 ] = 0.518\n",
      " Average Recall     (AR) @[ IoU=0.50:0.95 | area=   all | maxDets=  1 ] = 0.290\n",
      " Average Recall     (AR) @[ IoU=0.50:0.95 | area=   all | maxDets= 10 ] = 0.416\n",
      " Average Recall     (AR) @[ IoU=0.50:0.95 | area=   all | maxDets=100 ] = 0.423\n",
      " Average Recall     (AR) @[ IoU=0.50:0.95 | area= small | maxDets=100 ] = 0.212\n",
      " Average Recall     (AR) @[ IoU=0.50:0.95 | area=medium | maxDets=100 ] = 0.458\n",
      " Average Recall     (AR) @[ IoU=0.50:0.95 | area= large | maxDets=100 ] = 0.584\n",
      "\u001b[32m[11/25 15:20:59 d2.evaluation.coco_evaluation]: \u001b[0mEvaluation results for segm: \n",
      "|   AP   |  AP50  |  AP75  |  APs   |  APm   |  APl   |\n",
      "|:------:|:------:|:------:|:------:|:------:|:------:|\n",
      "| 35.591 | 54.305 | 38.666 | 16.254 | 38.358 | 51.837 |\n",
      "\u001b[32m[11/25 15:20:59 d2.evaluation.coco_evaluation]: \u001b[0mPer-category segm AP: \n",
      "| category      | AP     | category     | AP     | category       | AP     |\n",
      "|:--------------|:-------|:-------------|:-------|:---------------|:-------|\n",
      "| person        | 46.090 | bicycle      | 18.398 | car            | 39.339 |\n",
      "| motorcycle    | 33.015 | airplane     | 48.480 | bus            | 61.749 |\n",
      "| train         | 58.883 | truck        | 29.780 | boat           | 22.228 |\n",
      "| traffic light | 24.935 | fire hydrant | 61.422 | stop sign      | 66.276 |\n",
      "| parking meter | 45.040 | bench        | 16.565 | bird           | 29.606 |\n",
      "| cat           | 65.518 | dog          | 56.753 | horse          | 40.572 |\n",
      "| sheep         | 44.366 | cow          | 44.441 | elephant       | 54.285 |\n",
      "| bear          | 66.892 | zebra        | 56.777 | giraffe        | 50.594 |\n",
      "| backpack      | 15.035 | umbrella     | 43.748 | handbag        | 13.010 |\n",
      "| tie           | 33.275 | suitcase     | 37.716 | frisbee        | 60.872 |\n",
      "| skis          | 4.059  | snowboard    | 18.516 | sports ball    | 46.708 |\n",
      "| kite          | 28.737 | baseball bat | 24.324 | baseball glove | 38.994 |\n",
      "| skateboard    | 32.839 | surfboard    | 30.665 | tennis racket  | 54.256 |\n",
      "| bottle        | 36.107 | wine glass   | 30.366 | cup            | 38.594 |\n",
      "| fork          | 16.501 | knife        | 11.593 | spoon          | 11.964 |\n",
      "| bowl          | 35.168 | banana       | 15.070 | apple          | 15.630 |\n",
      "| sandwich      | 33.227 | orange       | 27.525 | broccoli       | 20.434 |\n",
      "| carrot        | 16.910 | hot dog      | 26.308 | pizza          | 46.900 |\n",
      "| donut         | 40.170 | cake         | 33.736 | chair          | 16.978 |\n",
      "| couch         | 32.473 | potted plant | 21.209 | bed            | 31.240 |\n",
      "| dining table  | 14.960 | toilet       | 57.859 | tv             | 55.491 |\n",
      "| laptop        | 58.768 | mouse        | 61.072 | remote         | 29.511 |\n",
      "| keyboard      | 46.931 | cell phone   | 33.951 | microwave      | 52.250 |\n",
      "| oven          | 29.538 | toaster      | 25.891 | sink           | 32.117 |\n",
      "| refrigerator  | 54.557 | book         | 8.064  | clock          | 48.032 |\n",
      "| vase          | 35.366 | scissors     | 21.947 | teddy bear     | 42.149 |\n",
      "| hair drier    | 1.485  | toothbrush   | 14.482 |                |        |\n"
     ]
    }
   ],
   "source": [
    "res = inference_on_dataset(predictor.model, dataset, evaluator)"
   ]
  },
  {
   "cell_type": "code",
   "execution_count": 28,
   "id": "f22d684f",
   "metadata": {},
   "outputs": [
    {
     "data": {
      "text/plain": [
       "OrderedDict([('bbox',\n",
       "              {'AP': 39.12504360329901,\n",
       "               'AP50': 56.03845414652688,\n",
       "               'AP75': 43.353050714047484,\n",
       "               'APs': 20.778114436572885,\n",
       "               'APm': 43.02762888801943,\n",
       "               'APl': 53.031165699830915,\n",
       "               'AP-person': 53.046760165496174,\n",
       "               'AP-bicycle': 30.34791305274065,\n",
       "               'AP-car': 42.63074358349172,\n",
       "               'AP-motorcycle': 41.78653345285846,\n",
       "               'AP-airplane': 61.123070345383226,\n",
       "               'AP-bus': 63.583770631498105,\n",
       "               'AP-train': 59.563996313308024,\n",
       "               'AP-truck': 30.54630906729446,\n",
       "               'AP-boat': 26.49290376731259,\n",
       "               'AP-traffic light': 25.881709983882516,\n",
       "               'AP-fire hydrant': 65.598335916569,\n",
       "               'AP-stop sign': 65.92315503611559,\n",
       "               'AP-parking meter': 45.3520547845941,\n",
       "               'AP-bench': 22.32768534048232,\n",
       "               'AP-bird': 34.4694812971997,\n",
       "               'AP-cat': 66.5839115263848,\n",
       "               'AP-dog': 59.48043416445944,\n",
       "               'AP-horse': 56.547657697147514,\n",
       "               'AP-sheep': 51.4607599381813,\n",
       "               'AP-cow': 51.03348426151074,\n",
       "               'AP-elephant': 58.66285624045031,\n",
       "               'AP-bear': 69.4570552652866,\n",
       "               'AP-zebra': 65.36426445290964,\n",
       "               'AP-giraffe': 66.12511367721393,\n",
       "               'AP-backpack': 15.717062214835357,\n",
       "               'AP-umbrella': 35.787973897500734,\n",
       "               'AP-handbag': 13.510165499851535,\n",
       "               'AP-tie': 34.89289754790889,\n",
       "               'AP-suitcase': 36.06605014281343,\n",
       "               'AP-frisbee': 61.470758369315206,\n",
       "               'AP-skis': 23.877431527326497,\n",
       "               'AP-snowboard': 31.168234095228335,\n",
       "               'AP-sports ball': 46.55426182288907,\n",
       "               'AP-kite': 38.91071849495382,\n",
       "               'AP-baseball bat': 26.59218795903331,\n",
       "               'AP-baseball glove': 36.50242168842554,\n",
       "               'AP-skateboard': 53.72892942271636,\n",
       "               'AP-surfboard': 36.565672551167886,\n",
       "               'AP-tennis racket': 48.0564585168709,\n",
       "               'AP-bottle': 37.42099054389428,\n",
       "               'AP-wine glass': 33.77127505465433,\n",
       "               'AP-cup': 38.671869673429384,\n",
       "               'AP-fork': 32.62471402944922,\n",
       "               'AP-knife': 17.268661567642937,\n",
       "               'AP-spoon': 16.81382122218182,\n",
       "               'AP-bowl': 37.261550759265724,\n",
       "               'AP-banana': 18.623360538159346,\n",
       "               'AP-apple': 15.780307544610833,\n",
       "               'AP-sandwich': 31.53827856056788,\n",
       "               'AP-orange': 27.22063376681143,\n",
       "               'AP-broccoli': 20.241959432241767,\n",
       "               'AP-carrot': 19.95996316561768,\n",
       "               'AP-hot dog': 30.49228515687026,\n",
       "               'AP-pizza': 48.27099908624648,\n",
       "               'AP-donut': 39.99197689025953,\n",
       "               'AP-cake': 33.547333358623966,\n",
       "               'AP-chair': 24.865876876610784,\n",
       "               'AP-couch': 37.79711838914015,\n",
       "               'AP-potted plant': 25.138192633915125,\n",
       "               'AP-bed': 38.00593362367256,\n",
       "               'AP-dining table': 25.38347216776311,\n",
       "               'AP-toilet': 57.76482771563348,\n",
       "               'AP-tv': 52.84582771697808,\n",
       "               'AP-laptop': 59.63161205304106,\n",
       "               'AP-mouse': 59.64850362025982,\n",
       "               'AP-remote': 30.496619135281104,\n",
       "               'AP-keyboard': 48.07148257521909,\n",
       "               'AP-cell phone': 34.6149841205161,\n",
       "               'AP-microwave': 50.463432727155244,\n",
       "               'AP-oven': 31.367731462413868,\n",
       "               'AP-toaster': 22.252475247524753,\n",
       "               'AP-sink': 34.193587039009344,\n",
       "               'AP-refrigerator': 52.724767763369876,\n",
       "               'AP-book': 11.830294417264572,\n",
       "               'AP-clock': 48.35747514034573,\n",
       "               'AP-vase': 36.428841894654326,\n",
       "               'AP-scissors': 26.4026402640264,\n",
       "               'AP-teddy bear': 43.4495123407042,\n",
       "               'AP-hair drier': 3.4653465346534658,\n",
       "               'AP-toothbrush': 22.511768741634466}),\n",
       "             ('segm',\n",
       "              {'AP': 35.5909920572284,\n",
       "               'AP50': 54.305077505685105,\n",
       "               'AP75': 38.666186863067004,\n",
       "               'APs': 16.25417944372413,\n",
       "               'APm': 38.35766342367468,\n",
       "               'APl': 51.8372151122391,\n",
       "               'AP-person': 46.090359779059796,\n",
       "               'AP-bicycle': 18.39794271616263,\n",
       "               'AP-car': 39.338677713315434,\n",
       "               'AP-motorcycle': 33.01519111105406,\n",
       "               'AP-airplane': 48.48003364908804,\n",
       "               'AP-bus': 61.748520370782344,\n",
       "               'AP-train': 58.88321486010979,\n",
       "               'AP-truck': 29.78030981192399,\n",
       "               'AP-boat': 22.227866666575586,\n",
       "               'AP-traffic light': 24.934900880649597,\n",
       "               'AP-fire hydrant': 61.421826385928604,\n",
       "               'AP-stop sign': 66.27637151042069,\n",
       "               'AP-parking meter': 45.03985099696615,\n",
       "               'AP-bench': 16.56452151411758,\n",
       "               'AP-bird': 29.605717599208248,\n",
       "               'AP-cat': 65.51809486163847,\n",
       "               'AP-dog': 56.75315861381656,\n",
       "               'AP-horse': 40.57152115794843,\n",
       "               'AP-sheep': 44.36576637248762,\n",
       "               'AP-cow': 44.440845245241626,\n",
       "               'AP-elephant': 54.285283936547415,\n",
       "               'AP-bear': 66.8917569886194,\n",
       "               'AP-zebra': 56.776838901617154,\n",
       "               'AP-giraffe': 50.59358601884909,\n",
       "               'AP-backpack': 15.035375403242352,\n",
       "               'AP-umbrella': 43.74752303962344,\n",
       "               'AP-handbag': 13.01024896350624,\n",
       "               'AP-tie': 33.27473113063512,\n",
       "               'AP-suitcase': 37.71642164856771,\n",
       "               'AP-frisbee': 60.871637949382226,\n",
       "               'AP-skis': 4.058658757772472,\n",
       "               'AP-snowboard': 18.515836623852323,\n",
       "               'AP-sports ball': 46.708166864663404,\n",
       "               'AP-kite': 28.737036191731374,\n",
       "               'AP-baseball bat': 24.32431719051704,\n",
       "               'AP-baseball glove': 38.99425097385333,\n",
       "               'AP-skateboard': 32.83859221773467,\n",
       "               'AP-surfboard': 30.66472469174527,\n",
       "               'AP-tennis racket': 54.25577578104962,\n",
       "               'AP-bottle': 36.106589660167685,\n",
       "               'AP-wine glass': 30.366121866919183,\n",
       "               'AP-cup': 38.59368482984809,\n",
       "               'AP-fork': 16.501169284156664,\n",
       "               'AP-knife': 11.593133720164994,\n",
       "               'AP-spoon': 11.964246837979248,\n",
       "               'AP-bowl': 35.16776446310957,\n",
       "               'AP-banana': 15.06999152405563,\n",
       "               'AP-apple': 15.630125309589616,\n",
       "               'AP-sandwich': 33.22741677811524,\n",
       "               'AP-orange': 27.525011007393456,\n",
       "               'AP-broccoli': 20.433523858553762,\n",
       "               'AP-carrot': 16.909537186681124,\n",
       "               'AP-hot dog': 26.30761660535169,\n",
       "               'AP-pizza': 46.899951717710984,\n",
       "               'AP-donut': 40.17048203777155,\n",
       "               'AP-cake': 33.73576037486586,\n",
       "               'AP-chair': 16.978405562128216,\n",
       "               'AP-couch': 32.47321276842237,\n",
       "               'AP-potted plant': 21.20914698261896,\n",
       "               'AP-bed': 31.24002466003994,\n",
       "               'AP-dining table': 14.959920114857198,\n",
       "               'AP-toilet': 57.858732757640695,\n",
       "               'AP-tv': 55.49063896517848,\n",
       "               'AP-laptop': 58.76833530094325,\n",
       "               'AP-mouse': 61.07224410876181,\n",
       "               'AP-remote': 29.510921849466303,\n",
       "               'AP-keyboard': 46.93108784173645,\n",
       "               'AP-cell phone': 33.95144680739837,\n",
       "               'AP-microwave': 52.250054394949075,\n",
       "               'AP-oven': 29.537882214478582,\n",
       "               'AP-toaster': 25.89108910891089,\n",
       "               'AP-sink': 32.1167156591267,\n",
       "               'AP-refrigerator': 54.55723118233373,\n",
       "               'AP-book': 8.064182679252967,\n",
       "               'AP-clock': 48.03217238097576,\n",
       "               'AP-vase': 35.366088522578224,\n",
       "               'AP-scissors': 21.946836262573626,\n",
       "               'AP-teddy bear': 42.14872338666648,\n",
       "               'AP-hair drier': 1.4851485148514851,\n",
       "               'AP-toothbrush': 14.48154039994272})])"
      ]
     },
     "execution_count": 28,
     "metadata": {},
     "output_type": "execute_result"
    }
   ],
   "source": [
    "res"
   ]
  },
  {
   "cell_type": "code",
   "execution_count": null,
   "id": "5a069efa",
   "metadata": {},
   "outputs": [],
   "source": [
    "model = torch.load(\"/ivrldata1/students/2021-fall-sp-jellouli/\")"
   ]
  }
 ],
 "metadata": {
  "kernelspec": {
   "display_name": "Python 3 (ipykernel)",
   "language": "python",
   "name": "python3"
  },
  "language_info": {
   "codemirror_mode": {
    "name": "ipython",
    "version": 3
   },
   "file_extension": ".py",
   "mimetype": "text/x-python",
   "name": "python",
   "nbconvert_exporter": "python",
   "pygments_lexer": "ipython3",
   "version": "3.9.7"
  }
 },
 "nbformat": 4,
 "nbformat_minor": 5
}
