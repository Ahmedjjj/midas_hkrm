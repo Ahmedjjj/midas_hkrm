{
 "cells": [
  {
   "cell_type": "code",
   "execution_count": 1,
   "id": "d1c848ff",
   "metadata": {},
   "outputs": [],
   "source": [
    "%load_ext autoreload\n",
    "%autoreload 2"
   ]
  },
  {
   "cell_type": "code",
   "execution_count": 2,
   "id": "37eb720f",
   "metadata": {},
   "outputs": [],
   "source": [
    "OBJECT_DETECTION_WEIGHTS = (\n",
    "    \"/runai-ivrl-scratch/students/2021-fall-sp-jellouli/output/model_final.pth\"\n",
    ")\n",
    "NYU_V2_TEST_PATH = \"/runai-ivrl-scratch/students/2021-fall-sp-jellouli/zero_shot_datasets/NYU/nyu_depth_v2_labeled.mat\"\n",
    "SPLIT_PATH = \"/runai-ivrl-scratch/students/2021-fall-sp-jellouli/zero_shot_datasets/NYU/splits.mat\"\n",
    "MIDAS_HKRM_WEIGHTS_PATH = \"/runai-ivrl-scratch/students/2021-fall-sp-jellouli/output_midas_hkrm/\"\n",
    "DEVICE = \"cuda\"\n",
    "DEBUG = False"
   ]
  },
  {
   "cell_type": "code",
   "execution_count": 3,
   "id": "7b07843d",
   "metadata": {},
   "outputs": [],
   "source": [
    "import os, sys\n",
    "import glob\n",
    "sys.path.append(os.path.normpath(os.path.join(os.getcwd(), '..')))\n",
    "sys.path.append(os.path.normpath(os.path.join(os.getcwd(), '..', 'external', 'MiDaS')))\n",
    "import matplotlib.pyplot as plt\n",
    "from midas_hkrm.utils import construct_config\n",
    "from midas_hkrm.zero_shot import NyuV2Evaluator, ETH3DEvaluator, DIWEvaluator\n",
    "from midas_hkrm.utils import midas_test_transform, read_image\n",
    "import logging\n",
    "import sys\n",
    "from midas.midas_net import MidasNet\n",
    "import torch\n",
    "from midas_hkrm.datasets import ApolloScape, TartanAir, RedWeb, BlendedMVS, MegaDepth, HRWSI\n",
    "from midas_hkrm.depth import MidasHKRMNet\n",
    "from midas_hkrm.utils import midas_train_transform, midas_eval_transform, construct_config\n",
    "from midas_hkrm.objects import GeneralizedRCNNObjectDetector\n",
    "from midas_hkrm.optim import SSITrimmedMAELoss\n",
    "import numpy as np "
   ]
  },
  {
   "cell_type": "code",
   "execution_count": 4,
   "id": "8ddb37bd",
   "metadata": {},
   "outputs": [
    {
     "name": "stdout",
     "output_type": "stream",
     "text": [
      "env: ZERO_SHOT_DATASETS=/runai-ivrl-scratch/students/2021-fall-sp-jellouli/zero_shot_datasets\n"
     ]
    }
   ],
   "source": [
    "%env ZERO_SHOT_DATASETS=/runai-ivrl-scratch/students/2021-fall-sp-jellouli/zero_shot_datasets"
   ]
  },
  {
   "cell_type": "code",
   "execution_count": 5,
   "id": "3f0677dc",
   "metadata": {},
   "outputs": [],
   "source": [
    "import logging\n",
    "logger = logging.getLogger(__name__)\n",
    "level = logging.DEBUG if DEBUG else logging.INFO\n",
    "logging.basicConfig(stream=sys.stdout, level=level)"
   ]
  },
  {
   "cell_type": "code",
   "execution_count": 378,
   "id": "6cb1d3c4",
   "metadata": {
    "scrolled": true
   },
   "outputs": [
    {
     "name": "stdout",
     "output_type": "stream",
     "text": [
      "INFO:__main__:Constructing Object detection network\n",
      "INFO:fvcore.common.checkpoint:[Checkpointer] Loading from /runai-ivrl-scratch/students/2021-fall-sp-jellouli/output/model_final.pth ...\n",
      "INFO:__main__:Preparing modified midas network\n"
     ]
    },
    {
     "name": "stderr",
     "output_type": "stream",
     "text": [
      "Using cache found in /runai-ivrl-scratch/students/2021-fall-sp-jellouli/.cache/torch/hub/facebookresearch_WSL-Images_main\n"
     ]
    }
   ],
   "source": [
    "logger.info(\"Constructing Object detection network\")\n",
    "cfg = construct_config()\n",
    "cfg.MODEL.WEIGHTS = OBJECT_DETECTION_WEIGHTS\n",
    "cfg.MODEL.ROI_HEADS.SCORE_THRESH_TEST = (\n",
    "    0.4  # Higher threshold for more precise object detection\n",
    ")\n",
    "object_detector = GeneralizedRCNNObjectDetector(cfg)\n",
    "\n",
    "logger.info(\"Preparing modified midas network\")\n",
    "model = MidasHKRMNet(\n",
    "    object_detector, max_objects=20, device=DEVICE, pretrained_resnet=True\n",
    ")"
   ]
  },
  {
   "cell_type": "code",
   "execution_count": 379,
   "id": "9b91fbb9",
   "metadata": {},
   "outputs": [],
   "source": [
    "import re\n",
    "iter_extractor = r\"state_(?P<iteration>([0-9]*)).tar\""
   ]
  },
  {
   "cell_type": "code",
   "execution_count": null,
   "id": "29fe0744",
   "metadata": {},
   "outputs": [
    {
     "name": "stdout",
     "output_type": "stream",
     "text": [
      "INFO:__main__:Testing state 230000\n",
      "INFO:midas_hkrm.zero_shot.evaluator:Evaluating Bad pixel metric > 1.25 (with depth capped at 10) on NYU_V2 and model MidasHKRMNet\n"
     ]
    },
    {
     "name": "stderr",
     "output_type": "stream",
     "text": [
      "33it [00:18,  1.77it/s]"
     ]
    }
   ],
   "source": [
    "res = {}\n",
    "for state in glob.glob(os.path.join(MIDAS_HKRM_WEIGHTS_PATH, '*.tar')):\n",
    "    iter_num = int(re.fullmatch(iter_extractor, os.path.basename(state))['iteration'])\n",
    "    logger.info(f\"Testing state {iter_num}\")\n",
    "    state = torch.load(state)[\"model\"]\n",
    "    model.load_state_dict(state)\n",
    "\n",
    "    evaluator = NyuV2Evaluator(\n",
    "        path=NYU_V2_TEST_PATH,\n",
    "        split_path=SPLIT_PATH,\n",
    "        model=model,\n",
    "        transform=midas_test_transform,\n",
    "        device=DEVICE,\n",
    "        pass_input=True,\n",
    "    )\n",
    "    \n",
    "    res[iter_num] = evaluator.evaluate()"
   ]
  },
  {
   "cell_type": "code",
   "execution_count": null,
   "id": "5cd49156",
   "metadata": {},
   "outputs": [],
   "source": [
    "for k,v in res.items():\n",
    "    res[k] = float(v)"
   ]
  },
  {
   "cell_type": "code",
   "execution_count": 58,
   "id": "53b81345",
   "metadata": {},
   "outputs": [],
   "source": [
    "ordered_res = OrderedDict(sorted(res.items()))"
   ]
  },
  {
   "cell_type": "code",
   "execution_count": 72,
   "id": "3ceec72b",
   "metadata": {
    "scrolled": true
   },
   "outputs": [
    {
     "data": {
      "image/png": "[encoded data removed]",
      "text/plain": [
       "<Figure size 1080x720 with 1 Axes>"
      ]
     },
     "metadata": {
      "needs_background": "light"
     },
     "output_type": "display_data"
    }
   ],
   "source": [
    "plt.figure(figsize=(15,10))\n",
    "plt.plot(ordered_res.keys(), ordered_res.values())\n",
    "plt.title(\"Iteration vs NYU zero shot eval score (>1.25)\")\n",
    "plt.xlabel(\"iteration\")\n",
    "plt.ylabel(\"Bad pixel score (> 1.25)\")\n",
    "plt.hlines(y=8.73, linestyles='dashed', xmin=0, xmax=140000, label='MiDaS v2.1 score', colors='red')\n",
    "plt.grid(True)\n",
    "plt.legend()\n",
    "plt.savefig('nyu.jpg', bbox_inches='tight', dpi=150)\n",
    "plt.show()"
   ]
  },
  {
   "cell_type": "code",
   "execution_count": 1,
   "id": "e1625c0e",
   "metadata": {},
   "outputs": [],
   "source": [
    "from functools import reduce\n",
    "from operator import add"
   ]
  },
  {
   "cell_type": "code",
   "execution_count": 2,
   "id": "6df1fe1d",
   "metadata": {},
   "outputs": [
    {
     "data": {
      "text/plain": [
       "6"
      ]
     },
     "execution_count": 2,
     "metadata": {},
     "output_type": "execute_result"
    }
   ],
   "source": [
    "reduce(add, [1,2,3])"
   ]
  },
  {
   "cell_type": "code",
   "execution_count": 6,
   "id": "b2df1dc6",
   "metadata": {},
   "outputs": [],
   "source": [
    "import pickle\n",
    "with open('../res_1_model.pickle', 'rb') as handle:\n",
    "    res_1 = pickle.load(handle)"
   ]
  },
  {
   "cell_type": "code",
   "execution_count": 7,
   "id": "5ca0747e",
   "metadata": {},
   "outputs": [],
   "source": [
    "import pickle\n",
    "with open('../res_2_model.pickle', 'rb') as handle:\n",
    "    res_2 = pickle.load(handle)"
   ]
  },
  {
   "cell_type": "code",
   "execution_count": 8,
   "id": "14cbd54b",
   "metadata": {
    "scrolled": true
   },
   "outputs": [
    {
     "data": {
      "text/plain": [
       "{'state_0.tar': tensor(21.3776, device='cuda:0'),\n",
       " 'state_39999.tar': tensor(99.3578, device='cuda:0'),\n",
       " 'state_9999.tar': tensor(99.3578, device='cuda:0'),\n",
       " 'state_79999.tar': tensor(99.3578, device='cuda:0'),\n",
       " 'state_49999.tar': tensor(99.3578, device='cuda:0'),\n",
       " 'state_59999.tar': tensor(99.3578, device='cuda:0'),\n",
       " 'state_19999.tar': tensor(99.3578, device='cuda:0'),\n",
       " 'state_29999.tar': tensor(99.3578, device='cuda:0'),\n",
       " 'state_69999.tar': tensor(99.3578, device='cuda:0')}"
      ]
     },
     "execution_count": 8,
     "metadata": {},
     "output_type": "execute_result"
    }
   ],
   "source": [
    "res_1"
   ]
  },
  {
   "cell_type": "code",
   "execution_count": 9,
   "id": "0c81288f",
   "metadata": {},
   "outputs": [
    {
     "data": {
      "text/plain": [
       "{'state_0.tar': tensor(51.0856, device='cuda:0'),\n",
       " 'state_39999.tar': tensor(99.3578, device='cuda:0'),\n",
       " 'state_9999.tar': tensor(99.3578, device='cuda:0'),\n",
       " 'state_49999.tar': tensor(99.3578, device='cuda:0'),\n",
       " 'state_59999.tar': tensor(99.3578, device='cuda:0'),\n",
       " 'state_19999.tar': tensor(99.3578, device='cuda:0'),\n",
       " 'state_29999.tar': tensor(99.3578, device='cuda:0'),\n",
       " 'state_69999.tar': tensor(99.3578, device='cuda:0')}"
      ]
     },
     "execution_count": 9,
     "metadata": {},
     "output_type": "execute_result"
    }
   ],
   "source": [
    "res_2"
   ]
  },
  {
   "cell_type": "markdown",
   "id": "8805c79d",
   "metadata": {},
   "source": [
    "## ETH3D"
   ]
  }
 ],
 "metadata": {
  "kernelspec": {
   "display_name": "Python 3 (ipykernel)",
   "language": "python",
   "name": "python3"
  },
  "language_info": {
   "codemirror_mode": {
    "name": "ipython",
    "version": 3
   },
   "file_extension": ".py",
   "mimetype": "text/x-python",
   "name": "python",
   "nbconvert_exporter": "python",
   "pygments_lexer": "ipython3",
   "version": "3.9.7"
  }
 },
 "nbformat": 4,
 "nbformat_minor": 5
}
